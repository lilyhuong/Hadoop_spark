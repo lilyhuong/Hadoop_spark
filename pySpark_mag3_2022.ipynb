{
  "nbformat": 4,
  "nbformat_minor": 0,
  "metadata": {
    "colab": {
      "provenance": [],
      "collapsed_sections": []
    },
    "kernelspec": {
      "name": "python3",
      "display_name": "Python 3"
    },
    "language_info": {
      "name": "python"
    }
  },
  "cells": [
    {
      "cell_type": "markdown",
      "source": [
        "# Traitement en pyspark\n",
        "\n",
        "Octobre 2022, Mag 3"
      ],
      "metadata": {
        "id": "dQz4zVbgP6-r"
      }
    },
    {
      "cell_type": "code",
      "execution_count": null,
      "metadata": {
        "colab": {
          "base_uri": "https://localhost:8080/"
        },
        "id": "uR35bCCCFjKA",
        "outputId": "701edc66-b9c8-440a-d204-d47d7b940bad"
      },
      "outputs": [
        {
          "output_type": "stream",
          "name": "stdout",
          "text": [
            "Looking in indexes: https://pypi.org/simple, https://us-python.pkg.dev/colab-wheels/public/simple/\n",
            "Collecting pyspark\n",
            "  Downloading pyspark-3.3.0.tar.gz (281.3 MB)\n",
            "\u001b[K     |████████████████████████████████| 281.3 MB 43 kB/s \n",
            "\u001b[?25hCollecting py4j==0.10.9.5\n",
            "  Downloading py4j-0.10.9.5-py2.py3-none-any.whl (199 kB)\n",
            "\u001b[K     |████████████████████████████████| 199 kB 53.4 MB/s \n",
            "\u001b[?25hBuilding wheels for collected packages: pyspark\n",
            "  Building wheel for pyspark (setup.py) ... \u001b[?25l\u001b[?25hdone\n",
            "  Created wheel for pyspark: filename=pyspark-3.3.0-py2.py3-none-any.whl size=281764026 sha256=2dc14c65b6f7bee73ac68afe4e3053a01c06a76bf2aa415c08b578a7331fb7f5\n",
            "  Stored in directory: /root/.cache/pip/wheels/7a/8e/1b/f73a52650d2e5f337708d9f6a1750d451a7349a867f928b885\n",
            "Successfully built pyspark\n",
            "Installing collected packages: py4j, pyspark\n",
            "Successfully installed py4j-0.10.9.5 pyspark-3.3.0\n"
          ]
        }
      ],
      "source": [
        "!pip install pyspark"
      ]
    },
    {
      "cell_type": "code",
      "source": [
        "import pyspark"
      ],
      "metadata": {
        "id": "g8k29_kbHR2n"
      },
      "execution_count": null,
      "outputs": []
    },
    {
      "cell_type": "markdown",
      "source": [
        "## Création de la session Spark"
      ],
      "metadata": {
        "id": "XnchvChQQY4R"
      }
    },
    {
      "cell_type": "code",
      "source": [
        "spark = pyspark.sql.SparkSession.builder.appName('Ma session').getOrCreate()"
      ],
      "metadata": {
        "id": "EzGSytkPQFSY"
      },
      "execution_count": null,
      "outputs": []
    },
    {
      "cell_type": "code",
      "source": [
        "spark"
      ],
      "metadata": {
        "colab": {
          "base_uri": "https://localhost:8080/",
          "height": 219
        },
        "id": "C93wkTcXRRML",
        "outputId": "1a70f684-6fdd-4245-8b78-159294278667"
      },
      "execution_count": null,
      "outputs": [
        {
          "output_type": "execute_result",
          "data": {
            "text/plain": [
              "<pyspark.sql.session.SparkSession at 0x7fa3b1b13650>"
            ],
            "text/html": [
              "\n",
              "            <div>\n",
              "                <p><b>SparkSession - in-memory</b></p>\n",
              "                \n",
              "        <div>\n",
              "            <p><b>SparkContext</b></p>\n",
              "\n",
              "            <p><a href=\"http://9f70ddb15d90:4040\">Spark UI</a></p>\n",
              "\n",
              "            <dl>\n",
              "              <dt>Version</dt>\n",
              "                <dd><code>v3.3.0</code></dd>\n",
              "              <dt>Master</dt>\n",
              "                <dd><code>local[*]</code></dd>\n",
              "              <dt>AppName</dt>\n",
              "                <dd><code>Ma session</code></dd>\n",
              "            </dl>\n",
              "        </div>\n",
              "        \n",
              "            </div>\n",
              "        "
            ]
          },
          "metadata": {},
          "execution_count": 4
        }
      ]
    },
    {
      "cell_type": "code",
      "source": [
        "!curl -O https://raw.githubusercontent.com/datasciencedojo/datasets/master/titanic.csv"
      ],
      "metadata": {
        "colab": {
          "base_uri": "https://localhost:8080/"
        },
        "id": "zAFOFdpKRVBq",
        "outputId": "1f0e4907-1fa7-4395-e4c1-9d35950fd285"
      },
      "execution_count": null,
      "outputs": [
        {
          "output_type": "stream",
          "name": "stdout",
          "text": [
            "  % Total    % Received % Xferd  Average Speed   Time    Time     Time  Current\n",
            "                                 Dload  Upload   Total   Spent    Left  Speed\n",
            "\r  0     0    0     0    0     0      0      0 --:--:-- --:--:-- --:--:--     0\r100 60302  100 60302    0     0   754k      0 --:--:-- --:--:-- --:--:--  754k\n"
          ]
        }
      ]
    },
    {
      "cell_type": "code",
      "source": [
        "!ls -lh"
      ],
      "metadata": {
        "colab": {
          "base_uri": "https://localhost:8080/"
        },
        "id": "bhcJTaaqU5zg",
        "outputId": "72c5c613-9186-4b55-d2b3-992134ae2b9d"
      },
      "execution_count": null,
      "outputs": [
        {
          "output_type": "stream",
          "name": "stdout",
          "text": [
            "total 68K\n",
            "drwx------ 6 root root 4.0K Oct  8 06:28 drive\n",
            "drwxr-xr-x 1 root root 4.0K Oct  5 13:35 sample_data\n",
            "-rw-r--r-- 1 root root  59K Oct  8 06:29 titanic.csv\n"
          ]
        }
      ]
    },
    {
      "cell_type": "code",
      "source": [
        "# Commande linux pour regarder le début du fichier\n",
        "!head titanic.csv"
      ],
      "metadata": {
        "colab": {
          "base_uri": "https://localhost:8080/"
        },
        "id": "Ea2NhkaWVtIQ",
        "outputId": "fa9b6cc3-1776-4a51-aab5-05ecaf68a9fd"
      },
      "execution_count": null,
      "outputs": [
        {
          "output_type": "stream",
          "name": "stdout",
          "text": [
            "PassengerId,Survived,Pclass,Name,Sex,Age,SibSp,Parch,Ticket,Fare,Cabin,Embarked\n",
            "1,0,3,\"Braund, Mr. Owen Harris\",male,22,1,0,A/5 21171,7.25,,S\n",
            "2,1,1,\"Cumings, Mrs. John Bradley (Florence Briggs Thayer)\",female,38,1,0,PC 17599,71.2833,C85,C\n",
            "3,1,3,\"Heikkinen, Miss. Laina\",female,26,0,0,STON/O2. 3101282,7.925,,S\n",
            "4,1,1,\"Futrelle, Mrs. Jacques Heath (Lily May Peel)\",female,35,1,0,113803,53.1,C123,S\n",
            "5,0,3,\"Allen, Mr. William Henry\",male,35,0,0,373450,8.05,,S\n",
            "6,0,3,\"Moran, Mr. James\",male,,0,0,330877,8.4583,,Q\n",
            "7,0,1,\"McCarthy, Mr. Timothy J\",male,54,0,0,17463,51.8625,E46,S\n",
            "8,0,3,\"Palsson, Master. Gosta Leonard\",male,2,3,1,349909,21.075,,S\n",
            "9,1,3,\"Johnson, Mrs. Oscar W (Elisabeth Vilhelmina Berg)\",female,27,0,2,347742,11.1333,,S\n"
          ]
        }
      ]
    },
    {
      "cell_type": "markdown",
      "source": [
        "## Lecture du fichier CSV"
      ],
      "metadata": {
        "id": "7iJUuRtjWPnx"
      }
    },
    {
      "cell_type": "code",
      "source": [
        "spark.read.csv('titanic.csv', sep=',', header=True)"
      ],
      "metadata": {
        "colab": {
          "base_uri": "https://localhost:8080/"
        },
        "id": "lXu8YCDjWCrj",
        "outputId": "0e672fe1-9540-4115-f744-a488ec3aed3b"
      },
      "execution_count": null,
      "outputs": [
        {
          "output_type": "execute_result",
          "data": {
            "text/plain": [
              "DataFrame[PassengerId: string, Survived: string, Pclass: string, Name: string, Sex: string, Age: string, SibSp: string, Parch: string, Ticket: string, Fare: string, Cabin: string, Embarked: string]"
            ]
          },
          "metadata": {},
          "execution_count": 9
        }
      ]
    },
    {
      "cell_type": "code",
      "source": [
        "# Afficher les 5 premières lignes avec .show(5)\n",
        "spark.read.csv('titanic.csv', sep=',', header=True).show(5)"
      ],
      "metadata": {
        "colab": {
          "base_uri": "https://localhost:8080/"
        },
        "id": "ug5GSg3EXJGF",
        "outputId": "f6232435-3db5-4787-c988-f87e36265bfb"
      },
      "execution_count": null,
      "outputs": [
        {
          "output_type": "stream",
          "name": "stdout",
          "text": [
            "+-----------+--------+------+--------------------+------+---+-----+-----+----------------+-------+-----+--------+\n",
            "|PassengerId|Survived|Pclass|                Name|   Sex|Age|SibSp|Parch|          Ticket|   Fare|Cabin|Embarked|\n",
            "+-----------+--------+------+--------------------+------+---+-----+-----+----------------+-------+-----+--------+\n",
            "|          1|       0|     3|Braund, Mr. Owen ...|  male| 22|    1|    0|       A/5 21171|   7.25| null|       S|\n",
            "|          2|       1|     1|Cumings, Mrs. Joh...|female| 38|    1|    0|        PC 17599|71.2833|  C85|       C|\n",
            "|          3|       1|     3|Heikkinen, Miss. ...|female| 26|    0|    0|STON/O2. 3101282|  7.925| null|       S|\n",
            "|          4|       1|     1|Futrelle, Mrs. Ja...|female| 35|    1|    0|          113803|   53.1| C123|       S|\n",
            "|          5|       0|     3|Allen, Mr. Willia...|  male| 35|    0|    0|          373450|   8.05| null|       S|\n",
            "+-----------+--------+------+--------------------+------+---+-----+-----+----------------+-------+-----+--------+\n",
            "only showing top 5 rows\n",
            "\n"
          ]
        }
      ]
    },
    {
      "cell_type": "code",
      "source": [
        "spark.read.csv('titanic.csv', sep=',', header=True, inferSchema=True)"
      ],
      "metadata": {
        "colab": {
          "base_uri": "https://localhost:8080/"
        },
        "id": "6wmPs4r-ZN_K",
        "outputId": "ae960a46-3d63-4fd8-c4bc-b9de88f469dc"
      },
      "execution_count": null,
      "outputs": [
        {
          "output_type": "execute_result",
          "data": {
            "text/plain": [
              "DataFrame[PassengerId: int, Survived: int, Pclass: int, Name: string, Sex: string, Age: double, SibSp: int, Parch: int, Ticket: string, Fare: double, Cabin: string, Embarked: string]"
            ]
          },
          "metadata": {},
          "execution_count": 11
        }
      ]
    },
    {
      "cell_type": "code",
      "source": [
        "titanic_ddf = spark.read.csv('titanic.csv', sep=',', header=True, inferSchema=True)"
      ],
      "metadata": {
        "id": "xUWym0PKaLca"
      },
      "execution_count": null,
      "outputs": []
    },
    {
      "cell_type": "code",
      "source": [
        "titanic_ddf.show(5)"
      ],
      "metadata": {
        "colab": {
          "base_uri": "https://localhost:8080/"
        },
        "id": "-dYnsWZabbfg",
        "outputId": "9a2e8032-aaa1-42a3-a7d5-bd8e18776b3f"
      },
      "execution_count": null,
      "outputs": [
        {
          "output_type": "stream",
          "name": "stdout",
          "text": [
            "+-----------+--------+------+--------------------+------+----+-----+-----+----------------+-------+-----+--------+\n",
            "|PassengerId|Survived|Pclass|                Name|   Sex| Age|SibSp|Parch|          Ticket|   Fare|Cabin|Embarked|\n",
            "+-----------+--------+------+--------------------+------+----+-----+-----+----------------+-------+-----+--------+\n",
            "|          1|       0|     3|Braund, Mr. Owen ...|  male|22.0|    1|    0|       A/5 21171|   7.25| null|       S|\n",
            "|          2|       1|     1|Cumings, Mrs. Joh...|female|38.0|    1|    0|        PC 17599|71.2833|  C85|       C|\n",
            "|          3|       1|     3|Heikkinen, Miss. ...|female|26.0|    0|    0|STON/O2. 3101282|  7.925| null|       S|\n",
            "|          4|       1|     1|Futrelle, Mrs. Ja...|female|35.0|    1|    0|          113803|   53.1| C123|       S|\n",
            "|          5|       0|     3|Allen, Mr. Willia...|  male|35.0|    0|    0|          373450|   8.05| null|       S|\n",
            "+-----------+--------+------+--------------------+------+----+-----+-----+----------------+-------+-----+--------+\n",
            "only showing top 5 rows\n",
            "\n"
          ]
        }
      ]
    },
    {
      "cell_type": "markdown",
      "source": [
        "## La structure du dataframe Spark"
      ],
      "metadata": {
        "id": "cWcpdWFfcMFH"
      }
    },
    {
      "cell_type": "code",
      "source": [
        "titanic_ddf.printSchema()"
      ],
      "metadata": {
        "colab": {
          "base_uri": "https://localhost:8080/"
        },
        "id": "27pk6BPhbuJu",
        "outputId": "62822e0b-e378-45d3-cd9c-b0f5e3c0f889"
      },
      "execution_count": null,
      "outputs": [
        {
          "output_type": "stream",
          "name": "stdout",
          "text": [
            "root\n",
            " |-- PassengerId: integer (nullable = true)\n",
            " |-- Survived: integer (nullable = true)\n",
            " |-- Pclass: integer (nullable = true)\n",
            " |-- Name: string (nullable = true)\n",
            " |-- Sex: string (nullable = true)\n",
            " |-- Age: double (nullable = true)\n",
            " |-- SibSp: integer (nullable = true)\n",
            " |-- Parch: integer (nullable = true)\n",
            " |-- Ticket: string (nullable = true)\n",
            " |-- Fare: double (nullable = true)\n",
            " |-- Cabin: string (nullable = true)\n",
            " |-- Embarked: string (nullable = true)\n",
            "\n"
          ]
        }
      ]
    },
    {
      "cell_type": "markdown",
      "source": [
        "## Définition d'un schéma"
      ],
      "metadata": {
        "id": "fpFJMVSPd9TY"
      }
    },
    {
      "cell_type": "code",
      "source": [
        "# https://dpaste.org/kgOFt\n",
        "\n",
        "from pyspark.sql.types import *\n",
        "\n",
        "titanic_schema = StructType([\n",
        "    StructField('PassengerId', IntegerType(), False),\n",
        "    StructField('Survived', IntegerType(), False),\n",
        "    StructField('Pclass', IntegerType(), True),\n",
        "    StructField('Name', StringType(), True),\n",
        "    StructField('Sex', StringType(), True),\n",
        "    StructField('Age', DoubleType(), True),\n",
        "    StructField('SibSp', IntegerType(), True),\n",
        "    StructField('Parch', IntegerType(), True),\n",
        "    StructField('Ticket', StringType(), True),\n",
        "    StructField('Fare', DoubleType(), True),\n",
        "    StructField('Cabin', StringType(), True),\n",
        "    StructField('Embarked', StringType(), True),\n",
        "])"
      ],
      "metadata": {
        "id": "TTPA_-_ieAio"
      },
      "execution_count": null,
      "outputs": []
    },
    {
      "cell_type": "code",
      "source": [
        "spark.read.csv('titanic.csv', sep=',', header=True, schema=titanic_schema)"
      ],
      "metadata": {
        "colab": {
          "base_uri": "https://localhost:8080/"
        },
        "id": "KBNEhGADfHJ0",
        "outputId": "020e97bc-c2bc-483f-cae9-85a81034eb90"
      },
      "execution_count": null,
      "outputs": [
        {
          "output_type": "execute_result",
          "data": {
            "text/plain": [
              "DataFrame[PassengerId: int, Survived: int, Pclass: int, Name: string, Sex: string, Age: double, SibSp: int, Parch: int, Ticket: string, Fare: double, Cabin: string, Embarked: string]"
            ]
          },
          "metadata": {},
          "execution_count": 16
        }
      ]
    },
    {
      "cell_type": "markdown",
      "source": [
        "## Les fonctions élémentaires d'un dataframe ❗"
      ],
      "metadata": {
        "id": "PIfEYoYJclVu"
      }
    },
    {
      "cell_type": "code",
      "source": [
        "# Nombre de lignes\n",
        "titanic_ddf.count()"
      ],
      "metadata": {
        "colab": {
          "base_uri": "https://localhost:8080/"
        },
        "id": "-Gyu1gnXcSwx",
        "outputId": "c7323106-f9c6-40e3-e3b3-1047c546390f"
      },
      "execution_count": null,
      "outputs": [
        {
          "output_type": "execute_result",
          "data": {
            "text/plain": [
              "891"
            ]
          },
          "metadata": {},
          "execution_count": 17
        }
      ]
    },
    {
      "cell_type": "code",
      "source": [
        "# Afficher les premières lignes, sans troncature\n",
        "titanic_ddf.show(5, truncate=False)"
      ],
      "metadata": {
        "colab": {
          "base_uri": "https://localhost:8080/"
        },
        "id": "l-9H8SW7jVw8",
        "outputId": "a79c2bf8-cc55-45aa-c1ce-9fd01fc88df2"
      },
      "execution_count": null,
      "outputs": [
        {
          "output_type": "stream",
          "name": "stdout",
          "text": [
            "+-----------+--------+------+---------------------------------------------------+------+----+-----+-----+----------------+-------+-----+--------+\n",
            "|PassengerId|Survived|Pclass|Name                                               |Sex   |Age |SibSp|Parch|Ticket          |Fare   |Cabin|Embarked|\n",
            "+-----------+--------+------+---------------------------------------------------+------+----+-----+-----+----------------+-------+-----+--------+\n",
            "|1          |0       |3     |Braund, Mr. Owen Harris                            |male  |22.0|1    |0    |A/5 21171       |7.25   |null |S       |\n",
            "|2          |1       |1     |Cumings, Mrs. John Bradley (Florence Briggs Thayer)|female|38.0|1    |0    |PC 17599        |71.2833|C85  |C       |\n",
            "|3          |1       |3     |Heikkinen, Miss. Laina                             |female|26.0|0    |0    |STON/O2. 3101282|7.925  |null |S       |\n",
            "|4          |1       |1     |Futrelle, Mrs. Jacques Heath (Lily May Peel)       |female|35.0|1    |0    |113803          |53.1   |C123 |S       |\n",
            "|5          |0       |3     |Allen, Mr. William Henry                           |male  |35.0|0    |0    |373450          |8.05   |null |S       |\n",
            "+-----------+--------+------+---------------------------------------------------+------+----+-----+-----+----------------+-------+-----+--------+\n",
            "only showing top 5 rows\n",
            "\n"
          ]
        }
      ]
    },
    {
      "cell_type": "markdown",
      "source": [
        "## Les fonctions de traitement de données\n",
        "\n",
        "* compter les occurences\n",
        "* calculer les statistiques de base\n",
        "* calculer des corrélations\n",
        "* calculer des nouvelles colonnes\n",
        "* recoder des valeurs\n",
        "* transformer des colonnes (standardisation, etc.)\n",
        "* traiter les valeurs manquantes\n",
        "\n",
        "Pour faire des graphiques, il faudra travailler avec pandas + matplotlib : Spark ne fait pas de graphique tout seul."
      ],
      "metadata": {
        "id": "solQfMlKlvSK"
      }
    },
    {
      "cell_type": "code",
      "source": [
        "titanic_ddf.describe().show()"
      ],
      "metadata": {
        "colab": {
          "base_uri": "https://localhost:8080/"
        },
        "id": "GubWd1RVlfYP",
        "outputId": "a7ae3ef7-e07c-4089-9d88-4a7d8e2f4a3f"
      },
      "execution_count": null,
      "outputs": [
        {
          "output_type": "stream",
          "name": "stdout",
          "text": [
            "+-------+-----------------+-------------------+------------------+--------------------+------+------------------+------------------+-------------------+------------------+-----------------+-----+--------+\n",
            "|summary|      PassengerId|           Survived|            Pclass|                Name|   Sex|               Age|             SibSp|              Parch|            Ticket|             Fare|Cabin|Embarked|\n",
            "+-------+-----------------+-------------------+------------------+--------------------+------+------------------+------------------+-------------------+------------------+-----------------+-----+--------+\n",
            "|  count|              891|                891|               891|                 891|   891|               714|               891|                891|               891|              891|  204|     889|\n",
            "|   mean|            446.0| 0.3838383838383838| 2.308641975308642|                null|  null| 29.69911764705882|0.5230078563411896|0.38159371492704824|260318.54916792738| 32.2042079685746| null|    null|\n",
            "| stddev|257.3538420152301|0.48659245426485753|0.8360712409770491|                null|  null|14.526497332334035|1.1027434322934315| 0.8060572211299488|471609.26868834975|49.69342859718089| null|    null|\n",
            "|    min|                1|                  0|                 1|\"Andersson, Mr. A...|female|              0.42|                 0|                  0|            110152|              0.0|  A10|       C|\n",
            "|    max|              891|                  1|                 3|van Melkebeke, Mr...|  male|              80.0|                 8|                  6|         WE/P 5735|         512.3292|    T|       S|\n",
            "+-------+-----------------+-------------------+------------------+--------------------+------+------------------+------------------+-------------------+------------------+-----------------+-----+--------+\n",
            "\n"
          ]
        }
      ]
    },
    {
      "cell_type": "markdown",
      "source": [
        "### Transférer les données vers Python / Pandas"
      ],
      "metadata": {
        "id": "WpqVdSipoRff"
      }
    },
    {
      "cell_type": "code",
      "source": [
        "# --- Spark ------------>---Python--->\n",
        "titanic_ddf.describe().toPandas()"
      ],
      "metadata": {
        "colab": {
          "base_uri": "https://localhost:8080/",
          "height": 322
        },
        "id": "xWQGDo6Wmpii",
        "outputId": "7e9fae91-ba07-4901-e342-fb8291b3ebd7"
      },
      "execution_count": null,
      "outputs": [
        {
          "output_type": "execute_result",
          "data": {
            "text/plain": [
              "  summary        PassengerId             Survived              Pclass  \\\n",
              "0   count                891                  891                 891   \n",
              "1    mean              446.0   0.3838383838383838   2.308641975308642   \n",
              "2  stddev  257.3538420152301  0.48659245426485753  0.8360712409770491   \n",
              "3     min                  1                    0                   1   \n",
              "4     max                891                    1                   3   \n",
              "\n",
              "                                               Name     Sex  \\\n",
              "0                                               891     891   \n",
              "1                                              None    None   \n",
              "2                                              None    None   \n",
              "3  \"Andersson, Mr. August Edvard (\"\"Wennerstrom\"\")\"  female   \n",
              "4                       van Melkebeke, Mr. Philemon    male   \n",
              "\n",
              "                  Age               SibSp                Parch  \\\n",
              "0                 714                 891                  891   \n",
              "1   29.69911764705882  0.5230078563411896  0.38159371492704824   \n",
              "2  14.526497332334035  1.1027434322934315   0.8060572211299488   \n",
              "3                0.42                   0                    0   \n",
              "4                80.0                   8                    6   \n",
              "\n",
              "               Ticket               Fare Cabin Embarked  \n",
              "0                 891                891   204      889  \n",
              "1  260318.54916792738   32.2042079685746  None     None  \n",
              "2  471609.26868834975  49.69342859718089  None     None  \n",
              "3              110152                0.0   A10        C  \n",
              "4           WE/P 5735           512.3292     T        S  "
            ],
            "text/html": [
              "\n",
              "  <div id=\"df-e4123387-bbd1-44bb-9fcf-57a9b244d1c4\">\n",
              "    <div class=\"colab-df-container\">\n",
              "      <div>\n",
              "<style scoped>\n",
              "    .dataframe tbody tr th:only-of-type {\n",
              "        vertical-align: middle;\n",
              "    }\n",
              "\n",
              "    .dataframe tbody tr th {\n",
              "        vertical-align: top;\n",
              "    }\n",
              "\n",
              "    .dataframe thead th {\n",
              "        text-align: right;\n",
              "    }\n",
              "</style>\n",
              "<table border=\"1\" class=\"dataframe\">\n",
              "  <thead>\n",
              "    <tr style=\"text-align: right;\">\n",
              "      <th></th>\n",
              "      <th>summary</th>\n",
              "      <th>PassengerId</th>\n",
              "      <th>Survived</th>\n",
              "      <th>Pclass</th>\n",
              "      <th>Name</th>\n",
              "      <th>Sex</th>\n",
              "      <th>Age</th>\n",
              "      <th>SibSp</th>\n",
              "      <th>Parch</th>\n",
              "      <th>Ticket</th>\n",
              "      <th>Fare</th>\n",
              "      <th>Cabin</th>\n",
              "      <th>Embarked</th>\n",
              "    </tr>\n",
              "  </thead>\n",
              "  <tbody>\n",
              "    <tr>\n",
              "      <th>0</th>\n",
              "      <td>count</td>\n",
              "      <td>891</td>\n",
              "      <td>891</td>\n",
              "      <td>891</td>\n",
              "      <td>891</td>\n",
              "      <td>891</td>\n",
              "      <td>714</td>\n",
              "      <td>891</td>\n",
              "      <td>891</td>\n",
              "      <td>891</td>\n",
              "      <td>891</td>\n",
              "      <td>204</td>\n",
              "      <td>889</td>\n",
              "    </tr>\n",
              "    <tr>\n",
              "      <th>1</th>\n",
              "      <td>mean</td>\n",
              "      <td>446.0</td>\n",
              "      <td>0.3838383838383838</td>\n",
              "      <td>2.308641975308642</td>\n",
              "      <td>None</td>\n",
              "      <td>None</td>\n",
              "      <td>29.69911764705882</td>\n",
              "      <td>0.5230078563411896</td>\n",
              "      <td>0.38159371492704824</td>\n",
              "      <td>260318.54916792738</td>\n",
              "      <td>32.2042079685746</td>\n",
              "      <td>None</td>\n",
              "      <td>None</td>\n",
              "    </tr>\n",
              "    <tr>\n",
              "      <th>2</th>\n",
              "      <td>stddev</td>\n",
              "      <td>257.3538420152301</td>\n",
              "      <td>0.48659245426485753</td>\n",
              "      <td>0.8360712409770491</td>\n",
              "      <td>None</td>\n",
              "      <td>None</td>\n",
              "      <td>14.526497332334035</td>\n",
              "      <td>1.1027434322934315</td>\n",
              "      <td>0.8060572211299488</td>\n",
              "      <td>471609.26868834975</td>\n",
              "      <td>49.69342859718089</td>\n",
              "      <td>None</td>\n",
              "      <td>None</td>\n",
              "    </tr>\n",
              "    <tr>\n",
              "      <th>3</th>\n",
              "      <td>min</td>\n",
              "      <td>1</td>\n",
              "      <td>0</td>\n",
              "      <td>1</td>\n",
              "      <td>\"Andersson, Mr. August Edvard (\"\"Wennerstrom\"\")\"</td>\n",
              "      <td>female</td>\n",
              "      <td>0.42</td>\n",
              "      <td>0</td>\n",
              "      <td>0</td>\n",
              "      <td>110152</td>\n",
              "      <td>0.0</td>\n",
              "      <td>A10</td>\n",
              "      <td>C</td>\n",
              "    </tr>\n",
              "    <tr>\n",
              "      <th>4</th>\n",
              "      <td>max</td>\n",
              "      <td>891</td>\n",
              "      <td>1</td>\n",
              "      <td>3</td>\n",
              "      <td>van Melkebeke, Mr. Philemon</td>\n",
              "      <td>male</td>\n",
              "      <td>80.0</td>\n",
              "      <td>8</td>\n",
              "      <td>6</td>\n",
              "      <td>WE/P 5735</td>\n",
              "      <td>512.3292</td>\n",
              "      <td>T</td>\n",
              "      <td>S</td>\n",
              "    </tr>\n",
              "  </tbody>\n",
              "</table>\n",
              "</div>\n",
              "      <button class=\"colab-df-convert\" onclick=\"convertToInteractive('df-e4123387-bbd1-44bb-9fcf-57a9b244d1c4')\"\n",
              "              title=\"Convert this dataframe to an interactive table.\"\n",
              "              style=\"display:none;\">\n",
              "        \n",
              "  <svg xmlns=\"http://www.w3.org/2000/svg\" height=\"24px\"viewBox=\"0 0 24 24\"\n",
              "       width=\"24px\">\n",
              "    <path d=\"M0 0h24v24H0V0z\" fill=\"none\"/>\n",
              "    <path d=\"M18.56 5.44l.94 2.06.94-2.06 2.06-.94-2.06-.94-.94-2.06-.94 2.06-2.06.94zm-11 1L8.5 8.5l.94-2.06 2.06-.94-2.06-.94L8.5 2.5l-.94 2.06-2.06.94zm10 10l.94 2.06.94-2.06 2.06-.94-2.06-.94-.94-2.06-.94 2.06-2.06.94z\"/><path d=\"M17.41 7.96l-1.37-1.37c-.4-.4-.92-.59-1.43-.59-.52 0-1.04.2-1.43.59L10.3 9.45l-7.72 7.72c-.78.78-.78 2.05 0 2.83L4 21.41c.39.39.9.59 1.41.59.51 0 1.02-.2 1.41-.59l7.78-7.78 2.81-2.81c.8-.78.8-2.07 0-2.86zM5.41 20L4 18.59l7.72-7.72 1.47 1.35L5.41 20z\"/>\n",
              "  </svg>\n",
              "      </button>\n",
              "      \n",
              "  <style>\n",
              "    .colab-df-container {\n",
              "      display:flex;\n",
              "      flex-wrap:wrap;\n",
              "      gap: 12px;\n",
              "    }\n",
              "\n",
              "    .colab-df-convert {\n",
              "      background-color: #E8F0FE;\n",
              "      border: none;\n",
              "      border-radius: 50%;\n",
              "      cursor: pointer;\n",
              "      display: none;\n",
              "      fill: #1967D2;\n",
              "      height: 32px;\n",
              "      padding: 0 0 0 0;\n",
              "      width: 32px;\n",
              "    }\n",
              "\n",
              "    .colab-df-convert:hover {\n",
              "      background-color: #E2EBFA;\n",
              "      box-shadow: 0px 1px 2px rgba(60, 64, 67, 0.3), 0px 1px 3px 1px rgba(60, 64, 67, 0.15);\n",
              "      fill: #174EA6;\n",
              "    }\n",
              "\n",
              "    [theme=dark] .colab-df-convert {\n",
              "      background-color: #3B4455;\n",
              "      fill: #D2E3FC;\n",
              "    }\n",
              "\n",
              "    [theme=dark] .colab-df-convert:hover {\n",
              "      background-color: #434B5C;\n",
              "      box-shadow: 0px 1px 3px 1px rgba(0, 0, 0, 0.15);\n",
              "      filter: drop-shadow(0px 1px 2px rgba(0, 0, 0, 0.3));\n",
              "      fill: #FFFFFF;\n",
              "    }\n",
              "  </style>\n",
              "\n",
              "      <script>\n",
              "        const buttonEl =\n",
              "          document.querySelector('#df-e4123387-bbd1-44bb-9fcf-57a9b244d1c4 button.colab-df-convert');\n",
              "        buttonEl.style.display =\n",
              "          google.colab.kernel.accessAllowed ? 'block' : 'none';\n",
              "\n",
              "        async function convertToInteractive(key) {\n",
              "          const element = document.querySelector('#df-e4123387-bbd1-44bb-9fcf-57a9b244d1c4');\n",
              "          const dataTable =\n",
              "            await google.colab.kernel.invokeFunction('convertToInteractive',\n",
              "                                                     [key], {});\n",
              "          if (!dataTable) return;\n",
              "\n",
              "          const docLinkHtml = 'Like what you see? Visit the ' +\n",
              "            '<a target=\"_blank\" href=https://colab.research.google.com/notebooks/data_table.ipynb>data table notebook</a>'\n",
              "            + ' to learn more about interactive tables.';\n",
              "          element.innerHTML = '';\n",
              "          dataTable['output_type'] = 'display_data';\n",
              "          await google.colab.output.renderOutput(dataTable, element);\n",
              "          const docLink = document.createElement('div');\n",
              "          docLink.innerHTML = docLinkHtml;\n",
              "          element.appendChild(docLink);\n",
              "        }\n",
              "      </script>\n",
              "    </div>\n",
              "  </div>\n",
              "  "
            ]
          },
          "metadata": {},
          "execution_count": 22
        }
      ]
    },
    {
      "cell_type": "code",
      "source": [
        "# On récupère bien un dataframe pandas\n",
        "type(titanic_ddf.describe().toPandas())"
      ],
      "metadata": {
        "colab": {
          "base_uri": "https://localhost:8080/"
        },
        "id": "jsz0XfO9osrm",
        "outputId": "df07bef5-f010-434c-fcc2-529bd92d2208"
      },
      "execution_count": null,
      "outputs": [
        {
          "output_type": "execute_result",
          "data": {
            "text/plain": [
              "pandas.core.frame.DataFrame"
            ]
          },
          "metadata": {},
          "execution_count": 24
        }
      ]
    },
    {
      "cell_type": "code",
      "source": [
        "# --- Spark ------------>..--------------Python/pandas----------->\n",
        "titanic_ddf.describe().toPandas().set_index('summary').transpose()"
      ],
      "metadata": {
        "colab": {
          "base_uri": "https://localhost:8080/",
          "height": 487
        },
        "id": "G6Soule2o81m",
        "outputId": "c7fb1275-0473-4e19-eaa9-f51a353f04b0"
      },
      "execution_count": null,
      "outputs": [
        {
          "output_type": "execute_result",
          "data": {
            "text/plain": [
              "summary     count                 mean               stddev  \\\n",
              "PassengerId   891                446.0    257.3538420152301   \n",
              "Survived      891   0.3838383838383838  0.48659245426485753   \n",
              "Pclass        891    2.308641975308642   0.8360712409770491   \n",
              "Name          891                 None                 None   \n",
              "Sex           891                 None                 None   \n",
              "Age           714    29.69911764705882   14.526497332334035   \n",
              "SibSp         891   0.5230078563411896   1.1027434322934315   \n",
              "Parch         891  0.38159371492704824   0.8060572211299488   \n",
              "Ticket        891   260318.54916792738   471609.26868834975   \n",
              "Fare          891     32.2042079685746    49.69342859718089   \n",
              "Cabin         204                 None                 None   \n",
              "Embarked      889                 None                 None   \n",
              "\n",
              "summary                                                   min  \\\n",
              "PassengerId                                                 1   \n",
              "Survived                                                    0   \n",
              "Pclass                                                      1   \n",
              "Name         \"Andersson, Mr. August Edvard (\"\"Wennerstrom\"\")\"   \n",
              "Sex                                                    female   \n",
              "Age                                                      0.42   \n",
              "SibSp                                                       0   \n",
              "Parch                                                       0   \n",
              "Ticket                                                 110152   \n",
              "Fare                                                      0.0   \n",
              "Cabin                                                     A10   \n",
              "Embarked                                                    C   \n",
              "\n",
              "summary                              max  \n",
              "PassengerId                          891  \n",
              "Survived                               1  \n",
              "Pclass                                 3  \n",
              "Name         van Melkebeke, Mr. Philemon  \n",
              "Sex                                 male  \n",
              "Age                                 80.0  \n",
              "SibSp                                  8  \n",
              "Parch                                  6  \n",
              "Ticket                         WE/P 5735  \n",
              "Fare                            512.3292  \n",
              "Cabin                                  T  \n",
              "Embarked                               S  "
            ],
            "text/html": [
              "\n",
              "  <div id=\"df-d572c625-9dce-4f7f-a697-d3f9c74e9d13\">\n",
              "    <div class=\"colab-df-container\">\n",
              "      <div>\n",
              "<style scoped>\n",
              "    .dataframe tbody tr th:only-of-type {\n",
              "        vertical-align: middle;\n",
              "    }\n",
              "\n",
              "    .dataframe tbody tr th {\n",
              "        vertical-align: top;\n",
              "    }\n",
              "\n",
              "    .dataframe thead th {\n",
              "        text-align: right;\n",
              "    }\n",
              "</style>\n",
              "<table border=\"1\" class=\"dataframe\">\n",
              "  <thead>\n",
              "    <tr style=\"text-align: right;\">\n",
              "      <th>summary</th>\n",
              "      <th>count</th>\n",
              "      <th>mean</th>\n",
              "      <th>stddev</th>\n",
              "      <th>min</th>\n",
              "      <th>max</th>\n",
              "    </tr>\n",
              "  </thead>\n",
              "  <tbody>\n",
              "    <tr>\n",
              "      <th>PassengerId</th>\n",
              "      <td>891</td>\n",
              "      <td>446.0</td>\n",
              "      <td>257.3538420152301</td>\n",
              "      <td>1</td>\n",
              "      <td>891</td>\n",
              "    </tr>\n",
              "    <tr>\n",
              "      <th>Survived</th>\n",
              "      <td>891</td>\n",
              "      <td>0.3838383838383838</td>\n",
              "      <td>0.48659245426485753</td>\n",
              "      <td>0</td>\n",
              "      <td>1</td>\n",
              "    </tr>\n",
              "    <tr>\n",
              "      <th>Pclass</th>\n",
              "      <td>891</td>\n",
              "      <td>2.308641975308642</td>\n",
              "      <td>0.8360712409770491</td>\n",
              "      <td>1</td>\n",
              "      <td>3</td>\n",
              "    </tr>\n",
              "    <tr>\n",
              "      <th>Name</th>\n",
              "      <td>891</td>\n",
              "      <td>None</td>\n",
              "      <td>None</td>\n",
              "      <td>\"Andersson, Mr. August Edvard (\"\"Wennerstrom\"\")\"</td>\n",
              "      <td>van Melkebeke, Mr. Philemon</td>\n",
              "    </tr>\n",
              "    <tr>\n",
              "      <th>Sex</th>\n",
              "      <td>891</td>\n",
              "      <td>None</td>\n",
              "      <td>None</td>\n",
              "      <td>female</td>\n",
              "      <td>male</td>\n",
              "    </tr>\n",
              "    <tr>\n",
              "      <th>Age</th>\n",
              "      <td>714</td>\n",
              "      <td>29.69911764705882</td>\n",
              "      <td>14.526497332334035</td>\n",
              "      <td>0.42</td>\n",
              "      <td>80.0</td>\n",
              "    </tr>\n",
              "    <tr>\n",
              "      <th>SibSp</th>\n",
              "      <td>891</td>\n",
              "      <td>0.5230078563411896</td>\n",
              "      <td>1.1027434322934315</td>\n",
              "      <td>0</td>\n",
              "      <td>8</td>\n",
              "    </tr>\n",
              "    <tr>\n",
              "      <th>Parch</th>\n",
              "      <td>891</td>\n",
              "      <td>0.38159371492704824</td>\n",
              "      <td>0.8060572211299488</td>\n",
              "      <td>0</td>\n",
              "      <td>6</td>\n",
              "    </tr>\n",
              "    <tr>\n",
              "      <th>Ticket</th>\n",
              "      <td>891</td>\n",
              "      <td>260318.54916792738</td>\n",
              "      <td>471609.26868834975</td>\n",
              "      <td>110152</td>\n",
              "      <td>WE/P 5735</td>\n",
              "    </tr>\n",
              "    <tr>\n",
              "      <th>Fare</th>\n",
              "      <td>891</td>\n",
              "      <td>32.2042079685746</td>\n",
              "      <td>49.69342859718089</td>\n",
              "      <td>0.0</td>\n",
              "      <td>512.3292</td>\n",
              "    </tr>\n",
              "    <tr>\n",
              "      <th>Cabin</th>\n",
              "      <td>204</td>\n",
              "      <td>None</td>\n",
              "      <td>None</td>\n",
              "      <td>A10</td>\n",
              "      <td>T</td>\n",
              "    </tr>\n",
              "    <tr>\n",
              "      <th>Embarked</th>\n",
              "      <td>889</td>\n",
              "      <td>None</td>\n",
              "      <td>None</td>\n",
              "      <td>C</td>\n",
              "      <td>S</td>\n",
              "    </tr>\n",
              "  </tbody>\n",
              "</table>\n",
              "</div>\n",
              "      <button class=\"colab-df-convert\" onclick=\"convertToInteractive('df-d572c625-9dce-4f7f-a697-d3f9c74e9d13')\"\n",
              "              title=\"Convert this dataframe to an interactive table.\"\n",
              "              style=\"display:none;\">\n",
              "        \n",
              "  <svg xmlns=\"http://www.w3.org/2000/svg\" height=\"24px\"viewBox=\"0 0 24 24\"\n",
              "       width=\"24px\">\n",
              "    <path d=\"M0 0h24v24H0V0z\" fill=\"none\"/>\n",
              "    <path d=\"M18.56 5.44l.94 2.06.94-2.06 2.06-.94-2.06-.94-.94-2.06-.94 2.06-2.06.94zm-11 1L8.5 8.5l.94-2.06 2.06-.94-2.06-.94L8.5 2.5l-.94 2.06-2.06.94zm10 10l.94 2.06.94-2.06 2.06-.94-2.06-.94-.94-2.06-.94 2.06-2.06.94z\"/><path d=\"M17.41 7.96l-1.37-1.37c-.4-.4-.92-.59-1.43-.59-.52 0-1.04.2-1.43.59L10.3 9.45l-7.72 7.72c-.78.78-.78 2.05 0 2.83L4 21.41c.39.39.9.59 1.41.59.51 0 1.02-.2 1.41-.59l7.78-7.78 2.81-2.81c.8-.78.8-2.07 0-2.86zM5.41 20L4 18.59l7.72-7.72 1.47 1.35L5.41 20z\"/>\n",
              "  </svg>\n",
              "      </button>\n",
              "      \n",
              "  <style>\n",
              "    .colab-df-container {\n",
              "      display:flex;\n",
              "      flex-wrap:wrap;\n",
              "      gap: 12px;\n",
              "    }\n",
              "\n",
              "    .colab-df-convert {\n",
              "      background-color: #E8F0FE;\n",
              "      border: none;\n",
              "      border-radius: 50%;\n",
              "      cursor: pointer;\n",
              "      display: none;\n",
              "      fill: #1967D2;\n",
              "      height: 32px;\n",
              "      padding: 0 0 0 0;\n",
              "      width: 32px;\n",
              "    }\n",
              "\n",
              "    .colab-df-convert:hover {\n",
              "      background-color: #E2EBFA;\n",
              "      box-shadow: 0px 1px 2px rgba(60, 64, 67, 0.3), 0px 1px 3px 1px rgba(60, 64, 67, 0.15);\n",
              "      fill: #174EA6;\n",
              "    }\n",
              "\n",
              "    [theme=dark] .colab-df-convert {\n",
              "      background-color: #3B4455;\n",
              "      fill: #D2E3FC;\n",
              "    }\n",
              "\n",
              "    [theme=dark] .colab-df-convert:hover {\n",
              "      background-color: #434B5C;\n",
              "      box-shadow: 0px 1px 3px 1px rgba(0, 0, 0, 0.15);\n",
              "      filter: drop-shadow(0px 1px 2px rgba(0, 0, 0, 0.3));\n",
              "      fill: #FFFFFF;\n",
              "    }\n",
              "  </style>\n",
              "\n",
              "      <script>\n",
              "        const buttonEl =\n",
              "          document.querySelector('#df-d572c625-9dce-4f7f-a697-d3f9c74e9d13 button.colab-df-convert');\n",
              "        buttonEl.style.display =\n",
              "          google.colab.kernel.accessAllowed ? 'block' : 'none';\n",
              "\n",
              "        async function convertToInteractive(key) {\n",
              "          const element = document.querySelector('#df-d572c625-9dce-4f7f-a697-d3f9c74e9d13');\n",
              "          const dataTable =\n",
              "            await google.colab.kernel.invokeFunction('convertToInteractive',\n",
              "                                                     [key], {});\n",
              "          if (!dataTable) return;\n",
              "\n",
              "          const docLinkHtml = 'Like what you see? Visit the ' +\n",
              "            '<a target=\"_blank\" href=https://colab.research.google.com/notebooks/data_table.ipynb>data table notebook</a>'\n",
              "            + ' to learn more about interactive tables.';\n",
              "          element.innerHTML = '';\n",
              "          dataTable['output_type'] = 'display_data';\n",
              "          await google.colab.output.renderOutput(dataTable, element);\n",
              "          const docLink = document.createElement('div');\n",
              "          docLink.innerHTML = docLinkHtml;\n",
              "          element.appendChild(docLink);\n",
              "        }\n",
              "      </script>\n",
              "    </div>\n",
              "  </div>\n",
              "  "
            ]
          },
          "metadata": {},
          "execution_count": 25
        }
      ]
    },
    {
      "cell_type": "markdown",
      "source": [
        "### Pas beau du tout 💣"
      ],
      "metadata": {
        "id": "GmIfLA8LrLIr"
      }
    },
    {
      "cell_type": "code",
      "source": [
        "titanic_df = titanic_ddf.toPandas()"
      ],
      "metadata": {
        "id": "IO4hFa3qrGXU"
      },
      "execution_count": null,
      "outputs": []
    },
    {
      "cell_type": "markdown",
      "source": [
        "## Filtrer les lignes\n",
        "\n",
        "Des instructions Spark."
      ],
      "metadata": {
        "id": "bhH2c6hgqUMB"
      }
    },
    {
      "cell_type": "code",
      "source": [
        "# Nombre de passagers mineurs\n",
        "titanic_ddf.where('Age < 18').count()\n",
        "\n",
        "# En pandas : titanic_df.query('Age < 18')"
      ],
      "metadata": {
        "colab": {
          "base_uri": "https://localhost:8080/"
        },
        "id": "OwpP7Luyp11q",
        "outputId": "dcc062fe-b6a7-4084-eddc-f2fc2711df5b"
      },
      "execution_count": null,
      "outputs": [
        {
          "output_type": "execute_result",
          "data": {
            "text/plain": [
              "113"
            ]
          },
          "metadata": {},
          "execution_count": 28
        }
      ]
    },
    {
      "cell_type": "code",
      "source": [
        "titanic_ddf.where('Age < 18').count() / titanic_ddf.count()"
      ],
      "metadata": {
        "colab": {
          "base_uri": "https://localhost:8080/"
        },
        "id": "mUfEnSSnqjPs",
        "outputId": "9e16f722-44af-41fc-b480-e475a003633c"
      },
      "execution_count": null,
      "outputs": [
        {
          "output_type": "execute_result",
          "data": {
            "text/plain": [
              "0.12682379349046016"
            ]
          },
          "metadata": {},
          "execution_count": 27
        }
      ]
    },
    {
      "cell_type": "code",
      "source": [
        "titanic_ddf[titanic_ddf['Age'] < 18].count()"
      ],
      "metadata": {
        "colab": {
          "base_uri": "https://localhost:8080/"
        },
        "id": "WGuzbaDfqsgs",
        "outputId": "f5eba864-7756-43b6-cfea-eaf3b36822a8"
      },
      "execution_count": null,
      "outputs": [
        {
          "output_type": "execute_result",
          "data": {
            "text/plain": [
              "113"
            ]
          },
          "metadata": {},
          "execution_count": 29
        }
      ]
    },
    {
      "cell_type": "markdown",
      "source": [
        "### Utilisation de l'opérateur col()"
      ],
      "metadata": {
        "id": "_BGPep6isNX2"
      }
    },
    {
      "cell_type": "code",
      "source": [
        "# On aliase en F les fonctions Spark SQL\n",
        "import pyspark.sql.functions as F"
      ],
      "metadata": {
        "id": "TDgHDHhlr-Qv"
      },
      "execution_count": null,
      "outputs": []
    },
    {
      "cell_type": "code",
      "source": [
        "# Comparer avec titanic_ddf[titanic_ddf['Age'] < 18].count()\n",
        "\n",
        "# F.col(C) --> utiliser la colonne C du dataframe sur lequel l'instruction s'applique\n",
        "# sans avoir à indiquer le nom du dataframe --> écriture plus générique\n",
        "\n",
        "titanic_ddf[F.col('Age') < 18].count()\n",
        "\n",
        "# En pandas : titanic_df[lambda _df: _df['Age'] < 18]"
      ],
      "metadata": {
        "colab": {
          "base_uri": "https://localhost:8080/"
        },
        "id": "gnqEV_qhsVF-",
        "outputId": "8134632d-8e56-440a-a1ee-05c62d590cb5"
      },
      "execution_count": null,
      "outputs": [
        {
          "output_type": "execute_result",
          "data": {
            "text/plain": [
              "113"
            ]
          },
          "metadata": {},
          "execution_count": 37
        }
      ]
    },
    {
      "cell_type": "markdown",
      "source": [
        "Attention en 🐼"
      ],
      "metadata": {
        "id": "C3kjWFAgthS2"
      }
    },
    {
      "cell_type": "code",
      "source": [
        "# A rapprocher en pandas de :\n",
        "titanic_df[titanic_df['Age'] < 18]\n",
        "\n",
        "# ou, bien mieux d'un point de vue généricité :\n",
        "titanic_df[lambda _df: _df['Age'] < 18]"
      ],
      "metadata": {
        "id": "jswC2cMXtP7q"
      },
      "execution_count": null,
      "outputs": []
    },
    {
      "cell_type": "markdown",
      "source": [
        "## Sélectionner des colonnes"
      ],
      "metadata": {
        "id": "VJkmpPGHu6Gf"
      }
    },
    {
      "cell_type": "code",
      "source": [
        "titanic_ddf.select('Survived', 'Age', 'Pclass').show(5)"
      ],
      "metadata": {
        "colab": {
          "base_uri": "https://localhost:8080/"
        },
        "id": "ZkjjiHVrsijd",
        "outputId": "bdd874a7-0df8-4b05-b372-95a81cd1a086"
      },
      "execution_count": null,
      "outputs": [
        {
          "output_type": "stream",
          "name": "stdout",
          "text": [
            "+--------+----+------+\n",
            "|Survived| Age|Pclass|\n",
            "+--------+----+------+\n",
            "|       0|22.0|     3|\n",
            "|       1|38.0|     1|\n",
            "|       1|26.0|     3|\n",
            "|       1|35.0|     1|\n",
            "|       0|35.0|     3|\n",
            "+--------+----+------+\n",
            "only showing top 5 rows\n",
            "\n"
          ]
        }
      ]
    },
    {
      "cell_type": "markdown",
      "source": [
        "## Supprimer une colonne"
      ],
      "metadata": {
        "id": "LXeSEAZ_vVTv"
      }
    },
    {
      "cell_type": "code",
      "source": [
        "titanic_ddf.drop('Ticket').show(5)"
      ],
      "metadata": {
        "colab": {
          "base_uri": "https://localhost:8080/"
        },
        "id": "KminLINKvVA3",
        "outputId": "42fe5f25-7bc3-4d34-e303-32e3c985cfa4"
      },
      "execution_count": null,
      "outputs": [
        {
          "output_type": "stream",
          "name": "stdout",
          "text": [
            "+-----------+--------+------+--------------------+------+----+-----+-----+-------+-----+--------+\n",
            "|PassengerId|Survived|Pclass|                Name|   Sex| Age|SibSp|Parch|   Fare|Cabin|Embarked|\n",
            "+-----------+--------+------+--------------------+------+----+-----+-----+-------+-----+--------+\n",
            "|          1|       0|     3|Braund, Mr. Owen ...|  male|22.0|    1|    0|   7.25| null|       S|\n",
            "|          2|       1|     1|Cumings, Mrs. Joh...|female|38.0|    1|    0|71.2833|  C85|       C|\n",
            "|          3|       1|     3|Heikkinen, Miss. ...|female|26.0|    0|    0|  7.925| null|       S|\n",
            "|          4|       1|     1|Futrelle, Mrs. Ja...|female|35.0|    1|    0|   53.1| C123|       S|\n",
            "|          5|       0|     3|Allen, Mr. Willia...|  male|35.0|    0|    0|   8.05| null|       S|\n",
            "+-----------+--------+------+--------------------+------+----+-----+-----+-------+-----+--------+\n",
            "only showing top 5 rows\n",
            "\n"
          ]
        }
      ]
    },
    {
      "cell_type": "code",
      "source": [
        "# On créé un nouveau df avec le résultat\n",
        "withoutticket_ddf = titanic_ddf.drop('Ticket')\n",
        "\n",
        "# Ou pour faire l'opération dans le df d'origine\n",
        "titanic_ddf = titanic_ddf.drop('Ticket')"
      ],
      "metadata": {
        "id": "bosdAieJvISh"
      },
      "execution_count": null,
      "outputs": []
    },
    {
      "cell_type": "markdown",
      "source": [
        "## Renommer les colonnes"
      ],
      "metadata": {
        "id": "PC8XOvRtwDkR"
      }
    },
    {
      "cell_type": "code",
      "source": [
        "titanic_ddf.withColumnRenamed('Ticket', 'Place').show(5)"
      ],
      "metadata": {
        "colab": {
          "base_uri": "https://localhost:8080/"
        },
        "id": "ALtQAL-Xvt2A",
        "outputId": "627bf290-44f6-4a72-eb71-f4aec16f4f9c"
      },
      "execution_count": null,
      "outputs": [
        {
          "output_type": "stream",
          "name": "stdout",
          "text": [
            "+-----------+--------+------+--------------------+------+----+-----+-----+----------------+-------+-----+--------+\n",
            "|PassengerId|Survived|Pclass|                Name|   Sex| Age|SibSp|Parch|           Place|   Fare|Cabin|Embarked|\n",
            "+-----------+--------+------+--------------------+------+----+-----+-----+----------------+-------+-----+--------+\n",
            "|          1|       0|     3|Braund, Mr. Owen ...|  male|22.0|    1|    0|       A/5 21171|   7.25| null|       S|\n",
            "|          2|       1|     1|Cumings, Mrs. Joh...|female|38.0|    1|    0|        PC 17599|71.2833|  C85|       C|\n",
            "|          3|       1|     3|Heikkinen, Miss. ...|female|26.0|    0|    0|STON/O2. 3101282|  7.925| null|       S|\n",
            "|          4|       1|     1|Futrelle, Mrs. Ja...|female|35.0|    1|    0|          113803|   53.1| C123|       S|\n",
            "|          5|       0|     3|Allen, Mr. Willia...|  male|35.0|    0|    0|          373450|   8.05| null|       S|\n",
            "+-----------+--------+------+--------------------+------+----+-----+-----+----------------+-------+-----+--------+\n",
            "only showing top 5 rows\n",
            "\n"
          ]
        }
      ]
    },
    {
      "cell_type": "markdown",
      "source": [
        "## Calculer une nouvelle colonne"
      ],
      "metadata": {
        "id": "w8ULtKDzwaD4"
      }
    },
    {
      "cell_type": "code",
      "source": [
        "titanic_ddf.withColumn('Accompagnants', F.col('SibSp') + F.col('Parch')).show(5)"
      ],
      "metadata": {
        "colab": {
          "base_uri": "https://localhost:8080/"
        },
        "id": "chzBnkB5wOFg",
        "outputId": "95a682b3-0d47-467a-9ca5-b42bc26665ee"
      },
      "execution_count": null,
      "outputs": [
        {
          "output_type": "stream",
          "name": "stdout",
          "text": [
            "+-----------+--------+------+--------------------+------+----+-----+-----+----------------+-------+-----+--------+-------------+\n",
            "|PassengerId|Survived|Pclass|                Name|   Sex| Age|SibSp|Parch|          Ticket|   Fare|Cabin|Embarked|Accompagnants|\n",
            "+-----------+--------+------+--------------------+------+----+-----+-----+----------------+-------+-----+--------+-------------+\n",
            "|          1|       0|     3|Braund, Mr. Owen ...|  male|22.0|    1|    0|       A/5 21171|   7.25| null|       S|            1|\n",
            "|          2|       1|     1|Cumings, Mrs. Joh...|female|38.0|    1|    0|        PC 17599|71.2833|  C85|       C|            1|\n",
            "|          3|       1|     3|Heikkinen, Miss. ...|female|26.0|    0|    0|STON/O2. 3101282|  7.925| null|       S|            0|\n",
            "|          4|       1|     1|Futrelle, Mrs. Ja...|female|35.0|    1|    0|          113803|   53.1| C123|       S|            1|\n",
            "|          5|       0|     3|Allen, Mr. Willia...|  male|35.0|    0|    0|          373450|   8.05| null|       S|            0|\n",
            "+-----------+--------+------+--------------------+------+----+-----+-----+----------------+-------+-----+--------+-------------+\n",
            "only showing top 5 rows\n",
            "\n"
          ]
        }
      ]
    },
    {
      "cell_type": "markdown",
      "source": [
        "Malheureusement, pour des raisons techniques, on ne peut pas affecter une colonne directement"
      ],
      "metadata": {
        "id": "0KqBVkGWxHOY"
      }
    },
    {
      "cell_type": "code",
      "source": [
        "titanic_ddf['Accompagnants'] = titanic_ddf['SibSp'] + titanic_ddf['Parch']"
      ],
      "metadata": {
        "colab": {
          "base_uri": "https://localhost:8080/",
          "height": 167
        },
        "id": "hsWddQEmww7R",
        "outputId": "43842dad-641e-4789-9995-fe1e6978bf13"
      },
      "execution_count": null,
      "outputs": [
        {
          "output_type": "error",
          "ename": "TypeError",
          "evalue": "ignored",
          "traceback": [
            "\u001b[0;31m---------------------------------------------------------------------------\u001b[0m",
            "\u001b[0;31mTypeError\u001b[0m                                 Traceback (most recent call last)",
            "\u001b[0;32m<ipython-input-44-b62100a674d8>\u001b[0m in \u001b[0;36m<module>\u001b[0;34m\u001b[0m\n\u001b[0;32m----> 1\u001b[0;31m \u001b[0mtitanic_ddf\u001b[0m\u001b[0;34m[\u001b[0m\u001b[0;34m'Accompagnants'\u001b[0m\u001b[0;34m]\u001b[0m \u001b[0;34m=\u001b[0m \u001b[0mtitanic_ddf\u001b[0m\u001b[0;34m[\u001b[0m\u001b[0;34m'SibSp'\u001b[0m\u001b[0;34m]\u001b[0m \u001b[0;34m+\u001b[0m \u001b[0mtitanic_ddf\u001b[0m\u001b[0;34m[\u001b[0m\u001b[0;34m'Parch'\u001b[0m\u001b[0;34m]\u001b[0m\u001b[0;34m\u001b[0m\u001b[0;34m\u001b[0m\u001b[0m\n\u001b[0m",
            "\u001b[0;31mTypeError\u001b[0m: 'DataFrame' object does not support item assignment"
          ]
        }
      ]
    },
    {
      "cell_type": "markdown",
      "source": [
        "### Utiliser F.expr() pour simplifier l'écriture"
      ],
      "metadata": {
        "id": "qtrGVZMfx_j0"
      }
    },
    {
      "cell_type": "code",
      "source": [
        "titanic_ddf.withColumn('Accompagnants', F.expr('SibSp + Parch')).show(5)"
      ],
      "metadata": {
        "colab": {
          "base_uri": "https://localhost:8080/"
        },
        "id": "lQEOF8BpxCQB",
        "outputId": "11b4fcf1-afa0-42f0-87af-5a573b901be5"
      },
      "execution_count": null,
      "outputs": [
        {
          "output_type": "stream",
          "name": "stdout",
          "text": [
            "+-----------+--------+------+--------------------+------+----+-----+-----+----------------+-------+-----+--------+-------------+\n",
            "|PassengerId|Survived|Pclass|                Name|   Sex| Age|SibSp|Parch|          Ticket|   Fare|Cabin|Embarked|Accompagnants|\n",
            "+-----------+--------+------+--------------------+------+----+-----+-----+----------------+-------+-----+--------+-------------+\n",
            "|          1|       0|     3|Braund, Mr. Owen ...|  male|22.0|    1|    0|       A/5 21171|   7.25| null|       S|            1|\n",
            "|          2|       1|     1|Cumings, Mrs. Joh...|female|38.0|    1|    0|        PC 17599|71.2833|  C85|       C|            1|\n",
            "|          3|       1|     3|Heikkinen, Miss. ...|female|26.0|    0|    0|STON/O2. 3101282|  7.925| null|       S|            0|\n",
            "|          4|       1|     1|Futrelle, Mrs. Ja...|female|35.0|    1|    0|          113803|   53.1| C123|       S|            1|\n",
            "|          5|       0|     3|Allen, Mr. Willia...|  male|35.0|    0|    0|          373450|   8.05| null|       S|            0|\n",
            "+-----------+--------+------+--------------------+------+----+-----+-----+----------------+-------+-----+--------+-------------+\n",
            "only showing top 5 rows\n",
            "\n"
          ]
        }
      ]
    },
    {
      "cell_type": "code",
      "source": [
        "# On peut utiliser toutes les fonctions disponibles dans Spark\n",
        "# Ici par exemple : https://spark.apache.org/docs/latest/api/python/reference/pyspark.sql/functions.html\n",
        "\n",
        "titanic_ddf.withColumn('Accompagnants', F.expr('SibSp + cos(Parch)')).show(5)"
      ],
      "metadata": {
        "colab": {
          "base_uri": "https://localhost:8080/"
        },
        "id": "-gJ7PiQnx-T0",
        "outputId": "2012b489-dd79-486e-951d-b3a1fdd29d7e"
      },
      "execution_count": null,
      "outputs": [
        {
          "output_type": "stream",
          "name": "stdout",
          "text": [
            "+-----------+--------+------+--------------------+------+----+-----+-----+----------------+-------+-----+--------+-------------+\n",
            "|PassengerId|Survived|Pclass|                Name|   Sex| Age|SibSp|Parch|          Ticket|   Fare|Cabin|Embarked|Accompagnants|\n",
            "+-----------+--------+------+--------------------+------+----+-----+-----+----------------+-------+-----+--------+-------------+\n",
            "|          1|       0|     3|Braund, Mr. Owen ...|  male|22.0|    1|    0|       A/5 21171|   7.25| null|       S|          2.0|\n",
            "|          2|       1|     1|Cumings, Mrs. Joh...|female|38.0|    1|    0|        PC 17599|71.2833|  C85|       C|          2.0|\n",
            "|          3|       1|     3|Heikkinen, Miss. ...|female|26.0|    0|    0|STON/O2. 3101282|  7.925| null|       S|          1.0|\n",
            "|          4|       1|     1|Futrelle, Mrs. Ja...|female|35.0|    1|    0|          113803|   53.1| C123|       S|          2.0|\n",
            "|          5|       0|     3|Allen, Mr. Willia...|  male|35.0|    0|    0|          373450|   8.05| null|       S|          1.0|\n",
            "+-----------+--------+------+--------------------+------+----+-----+-----+----------------+-------+-----+--------+-------------+\n",
            "only showing top 5 rows\n",
            "\n"
          ]
        }
      ]
    },
    {
      "cell_type": "markdown",
      "source": [
        "## Regrouper et compter"
      ],
      "metadata": {
        "id": "yUCeX8o-ym45"
      }
    },
    {
      "cell_type": "code",
      "source": [
        "titanic_ddf.groupby('Pclass').agg(F.mean('Survived')).show()"
      ],
      "metadata": {
        "colab": {
          "base_uri": "https://localhost:8080/"
        },
        "id": "QS1ixQLsyKyV",
        "outputId": "c9c21575-1207-4c77-863b-a3425bf300c5"
      },
      "execution_count": null,
      "outputs": [
        {
          "output_type": "stream",
          "name": "stdout",
          "text": [
            "+------+-------------------+\n",
            "|Pclass|      avg(Survived)|\n",
            "+------+-------------------+\n",
            "|     1| 0.6296296296296297|\n",
            "|     3|0.24236252545824846|\n",
            "|     2|0.47282608695652173|\n",
            "+------+-------------------+\n",
            "\n"
          ]
        }
      ]
    },
    {
      "cell_type": "code",
      "source": [
        "titanic_ddf.groupby('Pclass').agg(F.mean('Survived').alias('Taux de survie')).show()"
      ],
      "metadata": {
        "colab": {
          "base_uri": "https://localhost:8080/"
        },
        "id": "s3a8yJP9y6zK",
        "outputId": "b3875a3e-9f7b-4515-a5f7-3cb066211f93"
      },
      "execution_count": null,
      "outputs": [
        {
          "output_type": "stream",
          "name": "stdout",
          "text": [
            "+------+-------------------+\n",
            "|Pclass|     Taux de survie|\n",
            "+------+-------------------+\n",
            "|     1| 0.6296296296296297|\n",
            "|     3|0.24236252545824846|\n",
            "|     2|0.47282608695652173|\n",
            "+------+-------------------+\n",
            "\n"
          ]
        }
      ]
    },
    {
      "cell_type": "code",
      "source": [
        "# On regroupe par Pclass les individus\n",
        "# Et sur chaque groupe, on calcule la moyenne de Survived et les effectifs\n",
        "\n",
        "titanic_ddf.groupby('Pclass').agg(F.mean('Survived').alias('Taux de survie'),\n",
        "                                  F.count('Survived').alias('Effectifs'),\n",
        "                                  ).show()"
      ],
      "metadata": {
        "colab": {
          "base_uri": "https://localhost:8080/"
        },
        "id": "C-wVlCdFzYVa",
        "outputId": "65fad5c7-68c5-4e11-e4b7-43f39ba4a410"
      },
      "execution_count": null,
      "outputs": [
        {
          "output_type": "stream",
          "name": "stdout",
          "text": [
            "+------+-------------------+---------+\n",
            "|Pclass|     Taux de survie|Effectifs|\n",
            "+------+-------------------+---------+\n",
            "|     1| 0.6296296296296297|      216|\n",
            "|     3|0.24236252545824846|      491|\n",
            "|     2|0.47282608695652173|      184|\n",
            "+------+-------------------+---------+\n",
            "\n"
          ]
        }
      ]
    },
    {
      "cell_type": "markdown",
      "source": [
        "## Le truc de la parenthèse (_Parenthesis Trick_) 🧙"
      ],
      "metadata": {
        "id": "Fzh0f-zy0PWT"
      }
    },
    {
      "cell_type": "code",
      "source": [
        "(titanic_ddf\n",
        " .groupby('Pclass')\n",
        " .agg(\n",
        "     F.mean('Survived').alias('Taux de survie'),\n",
        "     F.count('Survived').alias('Effectif'),\n",
        "     F.avg('Age').alias('Age moyen'),\n",
        " )\n",
        ").show()"
      ],
      "metadata": {
        "colab": {
          "base_uri": "https://localhost:8080/"
        },
        "id": "pM_CKttlztIc",
        "outputId": "d79e0a2c-a3ec-4a3e-bdb6-815b04d6ffc8"
      },
      "execution_count": null,
      "outputs": [
        {
          "output_type": "stream",
          "name": "stdout",
          "text": [
            "+------+-------------------+--------+------------------+\n",
            "|Pclass|     Taux de survie|Effectif|         Age moyen|\n",
            "+------+-------------------+--------+------------------+\n",
            "|     1| 0.6296296296296297|     216|38.233440860215055|\n",
            "|     3|0.24236252545824846|     491| 25.14061971830986|\n",
            "|     2|0.47282608695652173|     184| 29.87763005780347|\n",
            "+------+-------------------+--------+------------------+\n",
            "\n"
          ]
        }
      ]
    },
    {
      "cell_type": "code",
      "source": [
        "(titanic_ddf\n",
        " # Regroupement par classe\n",
        " .groupby('Pclass')\n",
        "\n",
        " # Calcul d'agrégats\n",
        " .agg(\n",
        "     F.mean('Survived').alias('Taux de survie'),\n",
        "     F.count('Survived').alias('Effectif'),\n",
        "     F.avg('Age').alias('Age moyen'),\n",
        " )\n",
        ").show()"
      ],
      "metadata": {
        "colab": {
          "base_uri": "https://localhost:8080/"
        },
        "id": "bTCWt6IC06Lr",
        "outputId": "c4d8b9a4-0f02-4196-e2ed-15c18c17010f"
      },
      "execution_count": null,
      "outputs": [
        {
          "output_type": "stream",
          "name": "stdout",
          "text": [
            "+------+-------------------+--------+------------------+\n",
            "|Pclass|     Taux de survie|Effectif|         Age moyen|\n",
            "+------+-------------------+--------+------------------+\n",
            "|     1| 0.6296296296296297|     216|38.233440860215055|\n",
            "|     3|0.24236252545824846|     491| 25.14061971830986|\n",
            "|     2|0.47282608695652173|     184| 29.87763005780347|\n",
            "+------+-------------------+--------+------------------+\n",
            "\n"
          ]
        }
      ]
    },
    {
      "cell_type": "markdown",
      "source": [
        "### Fonctionne aussi en 🐼 ! \n",
        "\n",
        "On parle parfois de _Modern pandas_."
      ],
      "metadata": {
        "id": "77qmnt5w1dQd"
      }
    },
    {
      "cell_type": "code",
      "source": [
        "(titanic_df\n",
        " .groupby('Pclass')\n",
        " .agg(\n",
        "     taux_survie=('Survived', 'mean'),\n",
        "     effectif=('Survived', 'count'),\n",
        "     #age_moyen=('Age', 'mean'),\n",
        " )\n",
        ")"
      ],
      "metadata": {
        "colab": {
          "base_uri": "https://localhost:8080/",
          "height": 175
        },
        "id": "shEFdA0U1Y2s",
        "outputId": "dd3b4198-a52b-434f-df2e-3d67721fcd2c"
      },
      "execution_count": null,
      "outputs": [
        {
          "output_type": "execute_result",
          "data": {
            "text/plain": [
              "        taux_survie  effectif\n",
              "Pclass                       \n",
              "1          0.629630       216\n",
              "2          0.472826       184\n",
              "3          0.242363       491"
            ],
            "text/html": [
              "\n",
              "  <div id=\"df-f701a203-6dee-4612-842c-c2a02b97ffaf\">\n",
              "    <div class=\"colab-df-container\">\n",
              "      <div>\n",
              "<style scoped>\n",
              "    .dataframe tbody tr th:only-of-type {\n",
              "        vertical-align: middle;\n",
              "    }\n",
              "\n",
              "    .dataframe tbody tr th {\n",
              "        vertical-align: top;\n",
              "    }\n",
              "\n",
              "    .dataframe thead th {\n",
              "        text-align: right;\n",
              "    }\n",
              "</style>\n",
              "<table border=\"1\" class=\"dataframe\">\n",
              "  <thead>\n",
              "    <tr style=\"text-align: right;\">\n",
              "      <th></th>\n",
              "      <th>taux_survie</th>\n",
              "      <th>effectif</th>\n",
              "    </tr>\n",
              "    <tr>\n",
              "      <th>Pclass</th>\n",
              "      <th></th>\n",
              "      <th></th>\n",
              "    </tr>\n",
              "  </thead>\n",
              "  <tbody>\n",
              "    <tr>\n",
              "      <th>1</th>\n",
              "      <td>0.629630</td>\n",
              "      <td>216</td>\n",
              "    </tr>\n",
              "    <tr>\n",
              "      <th>2</th>\n",
              "      <td>0.472826</td>\n",
              "      <td>184</td>\n",
              "    </tr>\n",
              "    <tr>\n",
              "      <th>3</th>\n",
              "      <td>0.242363</td>\n",
              "      <td>491</td>\n",
              "    </tr>\n",
              "  </tbody>\n",
              "</table>\n",
              "</div>\n",
              "      <button class=\"colab-df-convert\" onclick=\"convertToInteractive('df-f701a203-6dee-4612-842c-c2a02b97ffaf')\"\n",
              "              title=\"Convert this dataframe to an interactive table.\"\n",
              "              style=\"display:none;\">\n",
              "        \n",
              "  <svg xmlns=\"http://www.w3.org/2000/svg\" height=\"24px\"viewBox=\"0 0 24 24\"\n",
              "       width=\"24px\">\n",
              "    <path d=\"M0 0h24v24H0V0z\" fill=\"none\"/>\n",
              "    <path d=\"M18.56 5.44l.94 2.06.94-2.06 2.06-.94-2.06-.94-.94-2.06-.94 2.06-2.06.94zm-11 1L8.5 8.5l.94-2.06 2.06-.94-2.06-.94L8.5 2.5l-.94 2.06-2.06.94zm10 10l.94 2.06.94-2.06 2.06-.94-2.06-.94-.94-2.06-.94 2.06-2.06.94z\"/><path d=\"M17.41 7.96l-1.37-1.37c-.4-.4-.92-.59-1.43-.59-.52 0-1.04.2-1.43.59L10.3 9.45l-7.72 7.72c-.78.78-.78 2.05 0 2.83L4 21.41c.39.39.9.59 1.41.59.51 0 1.02-.2 1.41-.59l7.78-7.78 2.81-2.81c.8-.78.8-2.07 0-2.86zM5.41 20L4 18.59l7.72-7.72 1.47 1.35L5.41 20z\"/>\n",
              "  </svg>\n",
              "      </button>\n",
              "      \n",
              "  <style>\n",
              "    .colab-df-container {\n",
              "      display:flex;\n",
              "      flex-wrap:wrap;\n",
              "      gap: 12px;\n",
              "    }\n",
              "\n",
              "    .colab-df-convert {\n",
              "      background-color: #E8F0FE;\n",
              "      border: none;\n",
              "      border-radius: 50%;\n",
              "      cursor: pointer;\n",
              "      display: none;\n",
              "      fill: #1967D2;\n",
              "      height: 32px;\n",
              "      padding: 0 0 0 0;\n",
              "      width: 32px;\n",
              "    }\n",
              "\n",
              "    .colab-df-convert:hover {\n",
              "      background-color: #E2EBFA;\n",
              "      box-shadow: 0px 1px 2px rgba(60, 64, 67, 0.3), 0px 1px 3px 1px rgba(60, 64, 67, 0.15);\n",
              "      fill: #174EA6;\n",
              "    }\n",
              "\n",
              "    [theme=dark] .colab-df-convert {\n",
              "      background-color: #3B4455;\n",
              "      fill: #D2E3FC;\n",
              "    }\n",
              "\n",
              "    [theme=dark] .colab-df-convert:hover {\n",
              "      background-color: #434B5C;\n",
              "      box-shadow: 0px 1px 3px 1px rgba(0, 0, 0, 0.15);\n",
              "      filter: drop-shadow(0px 1px 2px rgba(0, 0, 0, 0.3));\n",
              "      fill: #FFFFFF;\n",
              "    }\n",
              "  </style>\n",
              "\n",
              "      <script>\n",
              "        const buttonEl =\n",
              "          document.querySelector('#df-f701a203-6dee-4612-842c-c2a02b97ffaf button.colab-df-convert');\n",
              "        buttonEl.style.display =\n",
              "          google.colab.kernel.accessAllowed ? 'block' : 'none';\n",
              "\n",
              "        async function convertToInteractive(key) {\n",
              "          const element = document.querySelector('#df-f701a203-6dee-4612-842c-c2a02b97ffaf');\n",
              "          const dataTable =\n",
              "            await google.colab.kernel.invokeFunction('convertToInteractive',\n",
              "                                                     [key], {});\n",
              "          if (!dataTable) return;\n",
              "\n",
              "          const docLinkHtml = 'Like what you see? Visit the ' +\n",
              "            '<a target=\"_blank\" href=https://colab.research.google.com/notebooks/data_table.ipynb>data table notebook</a>'\n",
              "            + ' to learn more about interactive tables.';\n",
              "          element.innerHTML = '';\n",
              "          dataTable['output_type'] = 'display_data';\n",
              "          await google.colab.output.renderOutput(dataTable, element);\n",
              "          const docLink = document.createElement('div');\n",
              "          docLink.innerHTML = docLinkHtml;\n",
              "          element.appendChild(docLink);\n",
              "        }\n",
              "      </script>\n",
              "    </div>\n",
              "  </div>\n",
              "  "
            ]
          },
          "metadata": {},
          "execution_count": 62
        }
      ]
    },
    {
      "cell_type": "markdown",
      "source": [
        "## Utilisation du SQL"
      ],
      "metadata": {
        "id": "53FJzA2f3FNX"
      }
    },
    {
      "cell_type": "code",
      "source": [
        "# Une requête SQL type\n",
        "\"\"\"\n",
        "SELECT colonne, ...., colonne\n",
        "FROM table\n",
        "WHERE condition\n",
        "GROUP BY\n",
        "ORDER BY\n",
        "\"\"\""
      ],
      "metadata": {
        "id": "jyNHkE3k2KE-"
      },
      "execution_count": null,
      "outputs": []
    },
    {
      "cell_type": "code",
      "source": [
        "# On associe le dataframe Spark titanic_ddf au nom de table SQL titanic\n",
        "# Cela crée une sorte d'alias pour utiliser titanic_ddf dans des requêtes SQL\n",
        "# 1 dataframe == 1 table SQL\n",
        "\n",
        "titanic_ddf.createOrReplaceTempView('titanic')"
      ],
      "metadata": {
        "id": "JEAnN4dd3Wjz"
      },
      "execution_count": null,
      "outputs": []
    },
    {
      "cell_type": "code",
      "source": [
        "spark.sql(\"\"\"\n",
        "SELECT *\n",
        "FROM titanic\n",
        "\"\"\").show(5)"
      ],
      "metadata": {
        "colab": {
          "base_uri": "https://localhost:8080/"
        },
        "id": "2oiqvvar39s_",
        "outputId": "d534921d-38b9-422a-e206-a0147bcb8a80"
      },
      "execution_count": null,
      "outputs": [
        {
          "output_type": "stream",
          "name": "stdout",
          "text": [
            "+-----------+--------+------+--------------------+------+----+-----+-----+----------------+-------+-----+--------+\n",
            "|PassengerId|Survived|Pclass|                Name|   Sex| Age|SibSp|Parch|          Ticket|   Fare|Cabin|Embarked|\n",
            "+-----------+--------+------+--------------------+------+----+-----+-----+----------------+-------+-----+--------+\n",
            "|          1|       0|     3|Braund, Mr. Owen ...|  male|22.0|    1|    0|       A/5 21171|   7.25| null|       S|\n",
            "|          2|       1|     1|Cumings, Mrs. Joh...|female|38.0|    1|    0|        PC 17599|71.2833|  C85|       C|\n",
            "|          3|       1|     3|Heikkinen, Miss. ...|female|26.0|    0|    0|STON/O2. 3101282|  7.925| null|       S|\n",
            "|          4|       1|     1|Futrelle, Mrs. Ja...|female|35.0|    1|    0|          113803|   53.1| C123|       S|\n",
            "|          5|       0|     3|Allen, Mr. Willia...|  male|35.0|    0|    0|          373450|   8.05| null|       S|\n",
            "+-----------+--------+------+--------------------+------+----+-----+-----+----------------+-------+-----+--------+\n",
            "only showing top 5 rows\n",
            "\n"
          ]
        }
      ]
    },
    {
      "cell_type": "code",
      "source": [
        "# titanic_ddf.where('Age < 18').count()\n",
        "\n",
        "spark.sql(\"\"\"\n",
        "SELECT count(*) as nb_mineurs\n",
        "FROM titanic\n",
        "WHERE age < 18\n",
        "\"\"\").show(5)"
      ],
      "metadata": {
        "colab": {
          "base_uri": "https://localhost:8080/"
        },
        "id": "ex5-WTxV4mvT",
        "outputId": "6fb21b59-71db-46e7-aa9c-767d00b5f0e9"
      },
      "execution_count": null,
      "outputs": [
        {
          "output_type": "stream",
          "name": "stdout",
          "text": [
            "+----------+\n",
            "|nb_mineurs|\n",
            "+----------+\n",
            "|       113|\n",
            "+----------+\n",
            "\n"
          ]
        }
      ]
    },
    {
      "cell_type": "code",
      "source": [
        "# Notation fonctionnelle\n",
        "# (titanic_ddf\n",
        "#  .groupby('Pclass')\n",
        "#  .agg(\n",
        "#      F.mean('Survived').alias('Taux de survie'),\n",
        "#      F.count('Survived').alias('Effectif'),\n",
        "#      F.avg('Age').alias('Age moyen'),\n",
        "#  )\n",
        "# ).show()\n",
        "\n",
        "# Notation \"relationnelle\"\n",
        "spark.sql(\"\"\"\n",
        "SELECT\n",
        "  Pclass,\n",
        "  avg(Survived) as Taux_survie,\n",
        "  count(Survived) as Effectif,\n",
        "  avg(Age) as Age_moyen\n",
        "FROM titanic\n",
        "GROUP BY Pclass\n",
        "\"\"\").show()"
      ],
      "metadata": {
        "colab": {
          "base_uri": "https://localhost:8080/"
        },
        "id": "9Prrz8qcL5f5",
        "outputId": "a9a22496-b6aa-4703-c73a-89286f1aaa75"
      },
      "execution_count": null,
      "outputs": [
        {
          "output_type": "stream",
          "name": "stdout",
          "text": [
            "+------+-------------------+--------+------------------+\n",
            "|Pclass|        Taux_survie|Effectif|         Age_moyen|\n",
            "+------+-------------------+--------+------------------+\n",
            "|     1| 0.6296296296296297|     216|38.233440860215055|\n",
            "|     3|0.24236252545824846|     491| 25.14061971830986|\n",
            "|     2|0.47282608695652173|     184| 29.87763005780347|\n",
            "+------+-------------------+--------+------------------+\n",
            "\n"
          ]
        }
      ]
    },
    {
      "cell_type": "markdown",
      "source": [
        "### Mélange du SQL et du fonctionnel"
      ],
      "metadata": {
        "id": "iEwVG-OeTBi4"
      }
    },
    {
      "cell_type": "code",
      "source": [
        "spark.sql(\"\"\"\n",
        "SELECT\n",
        "  Pclass,\n",
        "  avg(Survived) as Taux_survie,\n",
        "  count(Survived) as Effectif,\n",
        "  avg(Age) as Age_moyen\n",
        "FROM titanic\n",
        "GROUP BY Pclass\n",
        "\"\"\").drop('Age_moyen').show()"
      ],
      "metadata": {
        "colab": {
          "base_uri": "https://localhost:8080/"
        },
        "id": "sC4_6BypRr1A",
        "outputId": "84c9141f-ce5c-489c-9f50-5ec167c9c8f1"
      },
      "execution_count": null,
      "outputs": [
        {
          "output_type": "stream",
          "name": "stdout",
          "text": [
            "+------+-------------------+--------+\n",
            "|Pclass|        Taux_survie|Effectif|\n",
            "+------+-------------------+--------+\n",
            "|     1| 0.6296296296296297|     216|\n",
            "|     3|0.24236252545824846|     491|\n",
            "|     2|0.47282608695652173|     184|\n",
            "+------+-------------------+--------+\n",
            "\n"
          ]
        }
      ]
    },
    {
      "cell_type": "code",
      "source": [
        "spark.sql(\"\"\"\n",
        "SELECT\n",
        "  Pclass,\n",
        "  avg(Survived) as Taux_survie,\n",
        "  count(Survived) as Effectif,\n",
        "  avg(Age) as Age_moyen\n",
        "FROM titanic\n",
        "GROUP BY Pclass\n",
        "\"\"\").orderBy('Pclass').show()"
      ],
      "metadata": {
        "colab": {
          "base_uri": "https://localhost:8080/"
        },
        "id": "NAiwNSjsU59C",
        "outputId": "5950980f-4e66-42da-f1ba-b1423e7009f4"
      },
      "execution_count": null,
      "outputs": [
        {
          "output_type": "stream",
          "name": "stdout",
          "text": [
            "+------+-------------------+--------+------------------+\n",
            "|Pclass|        Taux_survie|Effectif|         Age_moyen|\n",
            "+------+-------------------+--------+------------------+\n",
            "|     1| 0.6296296296296297|     216|38.233440860215055|\n",
            "|     2|0.47282608695652173|     184| 29.87763005780347|\n",
            "|     3|0.24236252545824846|     491| 25.14061971830986|\n",
            "+------+-------------------+--------+------------------+\n",
            "\n"
          ]
        }
      ]
    },
    {
      "cell_type": "markdown",
      "source": [
        "La requête SQL est une chaîne de caractères. Donc on peut ajouter des paramètres."
      ],
      "metadata": {
        "id": "iPhk4cl4TzcY"
      }
    },
    {
      "cell_type": "code",
      "source": [
        "nom_taux_survie = 'Taux_de_survie'\n",
        "\n",
        "spark.sql(f\"\"\"\n",
        "SELECT\n",
        "  Pclass,\n",
        "  avg(Survived) as {nom_taux_survie},\n",
        "  count(Survived) as Effectif,\n",
        "  avg(Age) as Age_moyen\n",
        "FROM titanic\n",
        "GROUP BY Pclass\n",
        "ORDER BY Pclass\n",
        "\"\"\").show()"
      ],
      "metadata": {
        "colab": {
          "base_uri": "https://localhost:8080/"
        },
        "id": "wSBkfRrUTIHA",
        "outputId": "b5d3a077-7c90-4199-8adc-2dca2c9c87ba"
      },
      "execution_count": null,
      "outputs": [
        {
          "output_type": "stream",
          "name": "stdout",
          "text": [
            "+------+-------------------+--------+------------------+\n",
            "|Pclass|     Taux_de_survie|Effectif|         Age_moyen|\n",
            "+------+-------------------+--------+------------------+\n",
            "|     1| 0.6296296296296297|     216|38.233440860215055|\n",
            "|     2|0.47282608695652173|     184| 29.87763005780347|\n",
            "|     3|0.24236252545824846|     491| 25.14061971830986|\n",
            "+------+-------------------+--------+------------------+\n",
            "\n"
          ]
        }
      ]
    },
    {
      "cell_type": "markdown",
      "source": [
        "## Utilisation des fonctions analytiques"
      ],
      "metadata": {
        "id": "4mf1XlWHVVdZ"
      }
    },
    {
      "cell_type": "code",
      "source": [
        "spark.sql(\"\"\"\n",
        "SELECT\n",
        "  PassengerId,\n",
        "  Age,\n",
        "  Sex,\n",
        "  AVG(Age) OVER (PARTITION BY Sex) as Age_moyen_sex\n",
        "FROM titanic\n",
        "ORDER BY PassengerId\n",
        "\"\"\").show(5)"
      ],
      "metadata": {
        "colab": {
          "base_uri": "https://localhost:8080/"
        },
        "id": "dF4ecRNYTvzD",
        "outputId": "70dfce61-86c0-42e1-bf7d-be1f9b8ae350"
      },
      "execution_count": null,
      "outputs": [
        {
          "output_type": "stream",
          "name": "stdout",
          "text": [
            "+-----------+----+------+------------------+\n",
            "|PassengerId| Age|   Sex|     Age_moyen_sex|\n",
            "+-----------+----+------+------------------+\n",
            "|          1|22.0|  male| 30.72664459161148|\n",
            "|          2|38.0|female|27.915708812260537|\n",
            "|          3|26.0|female|27.915708812260537|\n",
            "|          4|35.0|female|27.915708812260537|\n",
            "|          5|35.0|  male| 30.72664459161148|\n",
            "+-----------+----+------+------------------+\n",
            "only showing top 5 rows\n",
            "\n"
          ]
        }
      ]
    },
    {
      "cell_type": "markdown",
      "source": [
        "Equivalent en 🐼"
      ],
      "metadata": {
        "id": "jRYBmZw7YKA6"
      }
    },
    {
      "cell_type": "code",
      "source": [
        "titanic_df.merge(\n",
        "    titanic_df.groupby('Sex').agg(Age_moyen_sex=('Age', 'mean')).reset_index(),\n",
        "    on='Sex'\n",
        "    )[['PassengerId', 'Age', 'Sex', 'Age_moyen_sex']].sort_values('PassengerId').head(5)"
      ],
      "metadata": {
        "colab": {
          "base_uri": "https://localhost:8080/",
          "height": 206
        },
        "id": "sgfWHqHaWfl0",
        "outputId": "c83e0339-1f38-41dd-fe7a-2c812a93fe9e"
      },
      "execution_count": null,
      "outputs": [
        {
          "output_type": "execute_result",
          "data": {
            "text/plain": [
              "     PassengerId   Age     Sex  Age_moyen_sex\n",
              "0              1  22.0    male      30.726645\n",
              "577            2  38.0  female      27.915709\n",
              "578            3  26.0  female      27.915709\n",
              "579            4  35.0  female      27.915709\n",
              "1              5  35.0    male      30.726645"
            ],
            "text/html": [
              "\n",
              "  <div id=\"df-d43b8588-cbee-41ef-8b60-8155eb8bbe91\">\n",
              "    <div class=\"colab-df-container\">\n",
              "      <div>\n",
              "<style scoped>\n",
              "    .dataframe tbody tr th:only-of-type {\n",
              "        vertical-align: middle;\n",
              "    }\n",
              "\n",
              "    .dataframe tbody tr th {\n",
              "        vertical-align: top;\n",
              "    }\n",
              "\n",
              "    .dataframe thead th {\n",
              "        text-align: right;\n",
              "    }\n",
              "</style>\n",
              "<table border=\"1\" class=\"dataframe\">\n",
              "  <thead>\n",
              "    <tr style=\"text-align: right;\">\n",
              "      <th></th>\n",
              "      <th>PassengerId</th>\n",
              "      <th>Age</th>\n",
              "      <th>Sex</th>\n",
              "      <th>Age_moyen_sex</th>\n",
              "    </tr>\n",
              "  </thead>\n",
              "  <tbody>\n",
              "    <tr>\n",
              "      <th>0</th>\n",
              "      <td>1</td>\n",
              "      <td>22.0</td>\n",
              "      <td>male</td>\n",
              "      <td>30.726645</td>\n",
              "    </tr>\n",
              "    <tr>\n",
              "      <th>577</th>\n",
              "      <td>2</td>\n",
              "      <td>38.0</td>\n",
              "      <td>female</td>\n",
              "      <td>27.915709</td>\n",
              "    </tr>\n",
              "    <tr>\n",
              "      <th>578</th>\n",
              "      <td>3</td>\n",
              "      <td>26.0</td>\n",
              "      <td>female</td>\n",
              "      <td>27.915709</td>\n",
              "    </tr>\n",
              "    <tr>\n",
              "      <th>579</th>\n",
              "      <td>4</td>\n",
              "      <td>35.0</td>\n",
              "      <td>female</td>\n",
              "      <td>27.915709</td>\n",
              "    </tr>\n",
              "    <tr>\n",
              "      <th>1</th>\n",
              "      <td>5</td>\n",
              "      <td>35.0</td>\n",
              "      <td>male</td>\n",
              "      <td>30.726645</td>\n",
              "    </tr>\n",
              "  </tbody>\n",
              "</table>\n",
              "</div>\n",
              "      <button class=\"colab-df-convert\" onclick=\"convertToInteractive('df-d43b8588-cbee-41ef-8b60-8155eb8bbe91')\"\n",
              "              title=\"Convert this dataframe to an interactive table.\"\n",
              "              style=\"display:none;\">\n",
              "        \n",
              "  <svg xmlns=\"http://www.w3.org/2000/svg\" height=\"24px\"viewBox=\"0 0 24 24\"\n",
              "       width=\"24px\">\n",
              "    <path d=\"M0 0h24v24H0V0z\" fill=\"none\"/>\n",
              "    <path d=\"M18.56 5.44l.94 2.06.94-2.06 2.06-.94-2.06-.94-.94-2.06-.94 2.06-2.06.94zm-11 1L8.5 8.5l.94-2.06 2.06-.94-2.06-.94L8.5 2.5l-.94 2.06-2.06.94zm10 10l.94 2.06.94-2.06 2.06-.94-2.06-.94-.94-2.06-.94 2.06-2.06.94z\"/><path d=\"M17.41 7.96l-1.37-1.37c-.4-.4-.92-.59-1.43-.59-.52 0-1.04.2-1.43.59L10.3 9.45l-7.72 7.72c-.78.78-.78 2.05 0 2.83L4 21.41c.39.39.9.59 1.41.59.51 0 1.02-.2 1.41-.59l7.78-7.78 2.81-2.81c.8-.78.8-2.07 0-2.86zM5.41 20L4 18.59l7.72-7.72 1.47 1.35L5.41 20z\"/>\n",
              "  </svg>\n",
              "      </button>\n",
              "      \n",
              "  <style>\n",
              "    .colab-df-container {\n",
              "      display:flex;\n",
              "      flex-wrap:wrap;\n",
              "      gap: 12px;\n",
              "    }\n",
              "\n",
              "    .colab-df-convert {\n",
              "      background-color: #E8F0FE;\n",
              "      border: none;\n",
              "      border-radius: 50%;\n",
              "      cursor: pointer;\n",
              "      display: none;\n",
              "      fill: #1967D2;\n",
              "      height: 32px;\n",
              "      padding: 0 0 0 0;\n",
              "      width: 32px;\n",
              "    }\n",
              "\n",
              "    .colab-df-convert:hover {\n",
              "      background-color: #E2EBFA;\n",
              "      box-shadow: 0px 1px 2px rgba(60, 64, 67, 0.3), 0px 1px 3px 1px rgba(60, 64, 67, 0.15);\n",
              "      fill: #174EA6;\n",
              "    }\n",
              "\n",
              "    [theme=dark] .colab-df-convert {\n",
              "      background-color: #3B4455;\n",
              "      fill: #D2E3FC;\n",
              "    }\n",
              "\n",
              "    [theme=dark] .colab-df-convert:hover {\n",
              "      background-color: #434B5C;\n",
              "      box-shadow: 0px 1px 3px 1px rgba(0, 0, 0, 0.15);\n",
              "      filter: drop-shadow(0px 1px 2px rgba(0, 0, 0, 0.3));\n",
              "      fill: #FFFFFF;\n",
              "    }\n",
              "  </style>\n",
              "\n",
              "      <script>\n",
              "        const buttonEl =\n",
              "          document.querySelector('#df-d43b8588-cbee-41ef-8b60-8155eb8bbe91 button.colab-df-convert');\n",
              "        buttonEl.style.display =\n",
              "          google.colab.kernel.accessAllowed ? 'block' : 'none';\n",
              "\n",
              "        async function convertToInteractive(key) {\n",
              "          const element = document.querySelector('#df-d43b8588-cbee-41ef-8b60-8155eb8bbe91');\n",
              "          const dataTable =\n",
              "            await google.colab.kernel.invokeFunction('convertToInteractive',\n",
              "                                                     [key], {});\n",
              "          if (!dataTable) return;\n",
              "\n",
              "          const docLinkHtml = 'Like what you see? Visit the ' +\n",
              "            '<a target=\"_blank\" href=https://colab.research.google.com/notebooks/data_table.ipynb>data table notebook</a>'\n",
              "            + ' to learn more about interactive tables.';\n",
              "          element.innerHTML = '';\n",
              "          dataTable['output_type'] = 'display_data';\n",
              "          await google.colab.output.renderOutput(dataTable, element);\n",
              "          const docLink = document.createElement('div');\n",
              "          docLink.innerHTML = docLinkHtml;\n",
              "          element.appendChild(docLink);\n",
              "        }\n",
              "      </script>\n",
              "    </div>\n",
              "  </div>\n",
              "  "
            ]
          },
          "metadata": {},
          "execution_count": 108
        }
      ]
    },
    {
      "cell_type": "markdown",
      "source": [
        "## Apprentissage (_Machine Learning_)"
      ],
      "metadata": {
        "id": "l4OiHLTDgoxx"
      }
    },
    {
      "cell_type": "code",
      "source": [
        "titanic_ddf.columns"
      ],
      "metadata": {
        "colab": {
          "base_uri": "https://localhost:8080/"
        },
        "id": "RvJN2FR4YG-0",
        "outputId": "365b3bb5-09d3-4b2a-85d8-724131d443cc"
      },
      "execution_count": null,
      "outputs": [
        {
          "output_type": "execute_result",
          "data": {
            "text/plain": [
              "['PassengerId',\n",
              " 'Survived',\n",
              " 'Pclass',\n",
              " 'Name',\n",
              " 'Sex',\n",
              " 'Age',\n",
              " 'SibSp',\n",
              " 'Parch',\n",
              " 'Ticket',\n",
              " 'Fare',\n",
              " 'Cabin',\n",
              " 'Embarked']"
            ]
          },
          "metadata": {},
          "execution_count": 10
        }
      ]
    },
    {
      "cell_type": "code",
      "source": [
        "spark.sql(\"\"\"\n",
        "SELECT \n",
        "  Embarked,\n",
        "  AVG(Survived) as Survived,\n",
        "  COUNT(Survived) as Effectif\n",
        "FROM titanic\n",
        "GROUP BY Embarked\n",
        "\"\"\").show()"
      ],
      "metadata": {
        "colab": {
          "base_uri": "https://localhost:8080/"
        },
        "id": "a70_lvcwg5CQ",
        "outputId": "a52cb0a9-67b0-4241-ebe1-cb044e4f18cf"
      },
      "execution_count": null,
      "outputs": [
        {
          "output_type": "stream",
          "name": "stdout",
          "text": [
            "+--------+-------------------+--------+\n",
            "|Embarked|           Survived|Effectif|\n",
            "+--------+-------------------+--------+\n",
            "|       Q|0.38961038961038963|      77|\n",
            "|    null|                1.0|       2|\n",
            "|       C| 0.5535714285714286|     168|\n",
            "|       S|0.33695652173913043|     644|\n",
            "+--------+-------------------+--------+\n",
            "\n"
          ]
        }
      ]
    },
    {
      "cell_type": "code",
      "source": [
        "from pyspark.ml.feature import StringIndexer # chaîne -> nombre\n",
        "from pyspark.ml.feature import OneHotEncoder # 0, 1, .. n -> vecteur binaire\n",
        "from pyspark.ml.feature import Imputer # remplace les valeurs manquantes\n",
        "from pyspark.ml.feature import VectorAssembler # concatène les variables\n",
        "from pyspark.ml.pipeline import Pipeline # combine les outils"
      ],
      "metadata": {
        "id": "3xFGBTOJiXWh"
      },
      "execution_count": null,
      "outputs": []
    },
    {
      "cell_type": "code",
      "source": [
        "# On évite les imports * comme :\n",
        "# from pyspark.ml.feature import *\n",
        "\n",
        "# Les avis sont partagés entre \n",
        "# 1 ligne par objet\n",
        "# 1 ligne pour un module : from pyspark.ml.feature import StringIndexer, OneHotEncoder"
      ],
      "metadata": {
        "id": "BFeJh5gMkz7j"
      },
      "execution_count": null,
      "outputs": []
    },
    {
      "cell_type": "code",
      "source": [
        "# Les variables X à utiliser\n",
        "# 'Pclass' -> telle quelle, en numérique\n",
        "# 'Sex', -> encodage numérique, une colonne\n",
        "# 'Age', -> tel quel, en numérique, remplacement des valeurs manquantes\n",
        "# 'SibSp', -> tel quel\n",
        "# 'Parch', -> tel quel\n",
        "# 'Fare', -> tel quel\n",
        "# 'Embarked' -> OHE, remplacement des valeurs manquantes [ou dropna()]"
      ],
      "metadata": {
        "id": "pVLsHJUClpiz"
      },
      "execution_count": null,
      "outputs": []
    },
    {
      "cell_type": "code",
      "source": [
        "titanic_ddf.describe().where('summary == \"count\"').show()"
      ],
      "metadata": {
        "colab": {
          "base_uri": "https://localhost:8080/"
        },
        "id": "7NQXuN9-oDNK",
        "outputId": "88d38134-48e9-4946-81bf-def5f5aa0cd1"
      },
      "execution_count": null,
      "outputs": [
        {
          "output_type": "stream",
          "name": "stdout",
          "text": [
            "+-------+-----------+--------+------+----+---+---+-----+-----+------+----+-----+--------+\n",
            "|summary|PassengerId|Survived|Pclass|Name|Sex|Age|SibSp|Parch|Ticket|Fare|Cabin|Embarked|\n",
            "+-------+-----------+--------+------+----+---+---+-----+-----+------+----+-----+--------+\n",
            "|  count|        891|     891|   891| 891|891|714|  891|  891|   891| 891|  204|     889|\n",
            "+-------+-----------+--------+------+----+---+---+-----+-----+------+----+-----+--------+\n",
            "\n"
          ]
        }
      ]
    },
    {
      "cell_type": "code",
      "source": [
        "nsex = StringIndexer(inputCol='Sex', outputCol='nsex')\n",
        "nage = Imputer(inputCol='Age', outputCol='nage', strategy='mean')\n",
        "nembarked = StringIndexer(inputCol='Embarked',\n",
        "                          outputCol='nembarked',\n",
        "                          handleInvalid='skip', # supprime les lignes à valeur manquante sur Embarked\n",
        "                          )\n",
        "ohe_embarked = OneHotEncoder(inputCol='nembarked', outputCol='oheembarked')\n",
        "\n",
        "vector = VectorAssembler(inputCols=['Pclass', 'nsex', 'nage', 'SibSp', 'Parch', 'Fare', 'oheembarked'],\n",
        "                         outputCol='features',\n",
        "                         )\n",
        "\n",
        "pipeline = Pipeline(stages=[nsex, nage, nembarked, ohe_embarked, vector])"
      ],
      "metadata": {
        "id": "rMP1lpffoHiX"
      },
      "execution_count": null,
      "outputs": []
    },
    {
      "cell_type": "code",
      "source": [
        "# fit : prépare le pipeline sur les données (calcul de la moyenne, comptage des modalités, etc.)\n",
        "# transform : applique les transformations au dataframe et renvoie le dataframe transformé\n",
        "pipeline.fit(titanic_ddf).transform(titanic_ddf).show(8, truncate=False)"
      ],
      "metadata": {
        "colab": {
          "base_uri": "https://localhost:8080/"
        },
        "id": "nqv5GG1BxtnF",
        "outputId": "1346abff-3dce-4d0e-ce15-db547c0949fe"
      },
      "execution_count": null,
      "outputs": [
        {
          "output_type": "stream",
          "name": "stdout",
          "text": [
            "+-----------+--------+------+---------------------------------------------------+------+----+-----+-----+----------------+-------+-----+--------+----+-----------------+---------+-------------+------------------------------------------+\n",
            "|PassengerId|Survived|Pclass|Name                                               |Sex   |Age |SibSp|Parch|Ticket          |Fare   |Cabin|Embarked|nsex|nage             |nembarked|oheembarked  |features                                  |\n",
            "+-----------+--------+------+---------------------------------------------------+------+----+-----+-----+----------------+-------+-----+--------+----+-----------------+---------+-------------+------------------------------------------+\n",
            "|1          |0       |3     |Braund, Mr. Owen Harris                            |male  |22.0|1    |0    |A/5 21171       |7.25   |null |S       |0.0 |22.0             |0.0      |(2,[0],[1.0])|[3.0,0.0,22.0,1.0,0.0,7.25,1.0,0.0]       |\n",
            "|2          |1       |1     |Cumings, Mrs. John Bradley (Florence Briggs Thayer)|female|38.0|1    |0    |PC 17599        |71.2833|C85  |C       |1.0 |38.0             |1.0      |(2,[1],[1.0])|[1.0,1.0,38.0,1.0,0.0,71.2833,0.0,1.0]    |\n",
            "|3          |1       |3     |Heikkinen, Miss. Laina                             |female|26.0|0    |0    |STON/O2. 3101282|7.925  |null |S       |1.0 |26.0             |0.0      |(2,[0],[1.0])|[3.0,1.0,26.0,0.0,0.0,7.925,1.0,0.0]      |\n",
            "|4          |1       |1     |Futrelle, Mrs. Jacques Heath (Lily May Peel)       |female|35.0|1    |0    |113803          |53.1   |C123 |S       |1.0 |35.0             |0.0      |(2,[0],[1.0])|[1.0,1.0,35.0,1.0,0.0,53.1,1.0,0.0]       |\n",
            "|5          |0       |3     |Allen, Mr. William Henry                           |male  |35.0|0    |0    |373450          |8.05   |null |S       |0.0 |35.0             |0.0      |(2,[0],[1.0])|(8,[0,2,5,6],[3.0,35.0,8.05,1.0])         |\n",
            "|6          |0       |3     |Moran, Mr. James                                   |male  |null|0    |0    |330877          |8.4583 |null |Q       |0.0 |29.69911764705882|2.0      |(2,[],[])    |(8,[0,2,5],[3.0,29.69911764705882,8.4583])|\n",
            "|7          |0       |1     |McCarthy, Mr. Timothy J                            |male  |54.0|0    |0    |17463           |51.8625|E46  |S       |0.0 |54.0             |0.0      |(2,[0],[1.0])|(8,[0,2,5,6],[1.0,54.0,51.8625,1.0])      |\n",
            "|8          |0       |3     |Palsson, Master. Gosta Leonard                     |male  |2.0 |3    |1    |349909          |21.075 |null |S       |0.0 |2.0              |0.0      |(2,[0],[1.0])|[3.0,0.0,2.0,3.0,1.0,21.075,1.0,0.0]      |\n",
            "+-----------+--------+------+---------------------------------------------------+------+----+-----+-----+----------------+-------+-----+--------+----+-----------------+---------+-------------+------------------------------------------+\n",
            "only showing top 8 rows\n",
            "\n"
          ]
        }
      ]
    },
    {
      "cell_type": "markdown",
      "source": [
        "# Modélisation"
      ],
      "metadata": {
        "id": "X1Q1h6N64aZD"
      }
    },
    {
      "cell_type": "code",
      "source": [
        "from pyspark.ml.classification import LogisticRegression, RandomForestClassifier"
      ],
      "metadata": {
        "id": "BklH2QoMzi6k"
      },
      "execution_count": null,
      "outputs": []
    },
    {
      "cell_type": "code",
      "source": [
        "logreg = LogisticRegression(labelCol='Survived')\n",
        "pipeline_logreg = Pipeline(stages=[nsex, nage, nembarked, ohe_embarked, vector, logreg])"
      ],
      "metadata": {
        "id": "KhOLOr864mkJ"
      },
      "execution_count": null,
      "outputs": []
    },
    {
      "cell_type": "code",
      "source": [
        "model_logreg = pipeline_logreg.fit(titanic_ddf)"
      ],
      "metadata": {
        "id": "Jjux9nwt4-bp"
      },
      "execution_count": null,
      "outputs": []
    },
    {
      "cell_type": "code",
      "source": [
        "model_logreg"
      ],
      "metadata": {
        "colab": {
          "base_uri": "https://localhost:8080/"
        },
        "id": "gv5pMxQT5SQJ",
        "outputId": "4ff43077-58fd-4228-d635-23d9bf4094d5"
      },
      "execution_count": null,
      "outputs": [
        {
          "output_type": "execute_result",
          "data": {
            "text/plain": [
              "PipelineModel_934556b8862c"
            ]
          },
          "metadata": {},
          "execution_count": 134
        }
      ]
    },
    {
      "cell_type": "markdown",
      "source": [
        "### Accéder à la logistique entraînée"
      ],
      "metadata": {
        "id": "oA25rPhs5e25"
      }
    },
    {
      "cell_type": "code",
      "source": [
        "model_logreg.stages[-1]"
      ],
      "metadata": {
        "colab": {
          "base_uri": "https://localhost:8080/"
        },
        "id": "KHnUdOVJ5YAr",
        "outputId": "2e9a2ea3-f7fa-4dd9-f25b-bceaa9f503e3"
      },
      "execution_count": null,
      "outputs": [
        {
          "output_type": "execute_result",
          "data": {
            "text/plain": [
              "LogisticRegressionModel: uid=LogisticRegression_3fecfbf42783, numClasses=2, numFeatures=8"
            ]
          },
          "metadata": {},
          "execution_count": 135
        }
      ]
    },
    {
      "cell_type": "code",
      "source": [
        "# 'Pclass', 'nsex', 'nage', 'SibSp', 'Parch', 'Fare', 'oheembarked' -> S/C/Q\n",
        "model_logreg.stages[-1].coefficients"
      ],
      "metadata": {
        "colab": {
          "base_uri": "https://localhost:8080/"
        },
        "id": "omK9-X7x5rrl",
        "outputId": "0523dcb0-0ca9-407d-ac34-ba69311932d8"
      },
      "execution_count": null,
      "outputs": [
        {
          "output_type": "execute_result",
          "data": {
            "text/plain": [
              "DenseVector([-1.1001, 2.7187, -0.0399, -0.3258, -0.0926, 0.0019, -0.3847, 0.0341])"
            ]
          },
          "metadata": {},
          "execution_count": 136
        }
      ]
    },
    {
      "cell_type": "code",
      "source": [
        "model_logreg.stages[-1].intercept"
      ],
      "metadata": {
        "colab": {
          "base_uri": "https://localhost:8080/"
        },
        "id": "X42QCEbB5w-r",
        "outputId": "fec468eb-e47c-4c76-8c78-45f04d27556c"
      },
      "execution_count": null,
      "outputs": [
        {
          "output_type": "execute_result",
          "data": {
            "text/plain": [
              "2.5324183577124084"
            ]
          },
          "metadata": {},
          "execution_count": 137
        }
      ]
    },
    {
      "cell_type": "code",
      "source": [
        "list(zip(['Pclass', 'nsex', 'nage', 'SibSp', 'Parch', 'Fare', 'oheembarked_S', 'oheembarked_C'],\n",
        "         model_logreg.stages[-1].coefficients))"
      ],
      "metadata": {
        "colab": {
          "base_uri": "https://localhost:8080/"
        },
        "id": "IeLmzaXP52JM",
        "outputId": "4fed8657-2545-483e-c149-24e3fe5a719a"
      },
      "execution_count": null,
      "outputs": [
        {
          "output_type": "execute_result",
          "data": {
            "text/plain": [
              "[('Pclass', -1.1000586479456775),\n",
              " ('nsex', 2.7186962954690537),\n",
              " ('nage', -0.039900712313497136),\n",
              " ('SibSp', -0.3257760651555667),\n",
              " ('Parch', -0.09260288339796707),\n",
              " ('Fare', 0.001918251302387119),\n",
              " ('oheembarked_S', -0.38474178023286354),\n",
              " ('oheembarked_C', 0.034075742530062)]"
            ]
          },
          "metadata": {},
          "execution_count": 138
        }
      ]
    },
    {
      "cell_type": "code",
      "source": [
        "pd.DataFrame(list(zip(['Pclass', 'nsex', 'nage', 'SibSp', 'Parch', 'Fare', 'oheembarked_S', 'oheembarked_C'],\n",
        "                      model_logreg.stages[-1].coefficients)))"
      ],
      "metadata": {
        "colab": {
          "base_uri": "https://localhost:8080/",
          "height": 300
        },
        "id": "Nqmpjup1-W6h",
        "outputId": "200d2ea0-9bb0-43c5-a212-273d79346378"
      },
      "execution_count": null,
      "outputs": [
        {
          "output_type": "execute_result",
          "data": {
            "text/plain": [
              "               0         1\n",
              "0         Pclass -1.100059\n",
              "1           nsex  2.718696\n",
              "2           nage -0.039901\n",
              "3          SibSp -0.325776\n",
              "4          Parch -0.092603\n",
              "5           Fare  0.001918\n",
              "6  oheembarked_S -0.384742\n",
              "7  oheembarked_C  0.034076"
            ],
            "text/html": [
              "\n",
              "  <div id=\"df-9bcfad12-663f-451a-a4c4-9196e1b6237e\">\n",
              "    <div class=\"colab-df-container\">\n",
              "      <div>\n",
              "<style scoped>\n",
              "    .dataframe tbody tr th:only-of-type {\n",
              "        vertical-align: middle;\n",
              "    }\n",
              "\n",
              "    .dataframe tbody tr th {\n",
              "        vertical-align: top;\n",
              "    }\n",
              "\n",
              "    .dataframe thead th {\n",
              "        text-align: right;\n",
              "    }\n",
              "</style>\n",
              "<table border=\"1\" class=\"dataframe\">\n",
              "  <thead>\n",
              "    <tr style=\"text-align: right;\">\n",
              "      <th></th>\n",
              "      <th>0</th>\n",
              "      <th>1</th>\n",
              "    </tr>\n",
              "  </thead>\n",
              "  <tbody>\n",
              "    <tr>\n",
              "      <th>0</th>\n",
              "      <td>Pclass</td>\n",
              "      <td>-1.100059</td>\n",
              "    </tr>\n",
              "    <tr>\n",
              "      <th>1</th>\n",
              "      <td>nsex</td>\n",
              "      <td>2.718696</td>\n",
              "    </tr>\n",
              "    <tr>\n",
              "      <th>2</th>\n",
              "      <td>nage</td>\n",
              "      <td>-0.039901</td>\n",
              "    </tr>\n",
              "    <tr>\n",
              "      <th>3</th>\n",
              "      <td>SibSp</td>\n",
              "      <td>-0.325776</td>\n",
              "    </tr>\n",
              "    <tr>\n",
              "      <th>4</th>\n",
              "      <td>Parch</td>\n",
              "      <td>-0.092603</td>\n",
              "    </tr>\n",
              "    <tr>\n",
              "      <th>5</th>\n",
              "      <td>Fare</td>\n",
              "      <td>0.001918</td>\n",
              "    </tr>\n",
              "    <tr>\n",
              "      <th>6</th>\n",
              "      <td>oheembarked_S</td>\n",
              "      <td>-0.384742</td>\n",
              "    </tr>\n",
              "    <tr>\n",
              "      <th>7</th>\n",
              "      <td>oheembarked_C</td>\n",
              "      <td>0.034076</td>\n",
              "    </tr>\n",
              "  </tbody>\n",
              "</table>\n",
              "</div>\n",
              "      <button class=\"colab-df-convert\" onclick=\"convertToInteractive('df-9bcfad12-663f-451a-a4c4-9196e1b6237e')\"\n",
              "              title=\"Convert this dataframe to an interactive table.\"\n",
              "              style=\"display:none;\">\n",
              "        \n",
              "  <svg xmlns=\"http://www.w3.org/2000/svg\" height=\"24px\"viewBox=\"0 0 24 24\"\n",
              "       width=\"24px\">\n",
              "    <path d=\"M0 0h24v24H0V0z\" fill=\"none\"/>\n",
              "    <path d=\"M18.56 5.44l.94 2.06.94-2.06 2.06-.94-2.06-.94-.94-2.06-.94 2.06-2.06.94zm-11 1L8.5 8.5l.94-2.06 2.06-.94-2.06-.94L8.5 2.5l-.94 2.06-2.06.94zm10 10l.94 2.06.94-2.06 2.06-.94-2.06-.94-.94-2.06-.94 2.06-2.06.94z\"/><path d=\"M17.41 7.96l-1.37-1.37c-.4-.4-.92-.59-1.43-.59-.52 0-1.04.2-1.43.59L10.3 9.45l-7.72 7.72c-.78.78-.78 2.05 0 2.83L4 21.41c.39.39.9.59 1.41.59.51 0 1.02-.2 1.41-.59l7.78-7.78 2.81-2.81c.8-.78.8-2.07 0-2.86zM5.41 20L4 18.59l7.72-7.72 1.47 1.35L5.41 20z\"/>\n",
              "  </svg>\n",
              "      </button>\n",
              "      \n",
              "  <style>\n",
              "    .colab-df-container {\n",
              "      display:flex;\n",
              "      flex-wrap:wrap;\n",
              "      gap: 12px;\n",
              "    }\n",
              "\n",
              "    .colab-df-convert {\n",
              "      background-color: #E8F0FE;\n",
              "      border: none;\n",
              "      border-radius: 50%;\n",
              "      cursor: pointer;\n",
              "      display: none;\n",
              "      fill: #1967D2;\n",
              "      height: 32px;\n",
              "      padding: 0 0 0 0;\n",
              "      width: 32px;\n",
              "    }\n",
              "\n",
              "    .colab-df-convert:hover {\n",
              "      background-color: #E2EBFA;\n",
              "      box-shadow: 0px 1px 2px rgba(60, 64, 67, 0.3), 0px 1px 3px 1px rgba(60, 64, 67, 0.15);\n",
              "      fill: #174EA6;\n",
              "    }\n",
              "\n",
              "    [theme=dark] .colab-df-convert {\n",
              "      background-color: #3B4455;\n",
              "      fill: #D2E3FC;\n",
              "    }\n",
              "\n",
              "    [theme=dark] .colab-df-convert:hover {\n",
              "      background-color: #434B5C;\n",
              "      box-shadow: 0px 1px 3px 1px rgba(0, 0, 0, 0.15);\n",
              "      filter: drop-shadow(0px 1px 2px rgba(0, 0, 0, 0.3));\n",
              "      fill: #FFFFFF;\n",
              "    }\n",
              "  </style>\n",
              "\n",
              "      <script>\n",
              "        const buttonEl =\n",
              "          document.querySelector('#df-9bcfad12-663f-451a-a4c4-9196e1b6237e button.colab-df-convert');\n",
              "        buttonEl.style.display =\n",
              "          google.colab.kernel.accessAllowed ? 'block' : 'none';\n",
              "\n",
              "        async function convertToInteractive(key) {\n",
              "          const element = document.querySelector('#df-9bcfad12-663f-451a-a4c4-9196e1b6237e');\n",
              "          const dataTable =\n",
              "            await google.colab.kernel.invokeFunction('convertToInteractive',\n",
              "                                                     [key], {});\n",
              "          if (!dataTable) return;\n",
              "\n",
              "          const docLinkHtml = 'Like what you see? Visit the ' +\n",
              "            '<a target=\"_blank\" href=https://colab.research.google.com/notebooks/data_table.ipynb>data table notebook</a>'\n",
              "            + ' to learn more about interactive tables.';\n",
              "          element.innerHTML = '';\n",
              "          dataTable['output_type'] = 'display_data';\n",
              "          await google.colab.output.renderOutput(dataTable, element);\n",
              "          const docLink = document.createElement('div');\n",
              "          docLink.innerHTML = docLinkHtml;\n",
              "          element.appendChild(docLink);\n",
              "        }\n",
              "      </script>\n",
              "    </div>\n",
              "  </div>\n",
              "  "
            ]
          },
          "metadata": {},
          "execution_count": 152
        }
      ]
    },
    {
      "cell_type": "code",
      "source": [
        "#https://dpaste.org/1cVB1\n",
        "\n",
        "import pandas as pd\n",
        "import seaborn as sns\n",
        "\n",
        "sns.set()\n",
        "\n",
        "(pd.DataFrame(list(zip(['Pclass', 'nsex', 'nage', 'SibSp', 'Parch', 'Fare', 'oheembarked_S', 'oheembarked_C'],\n",
        "                      model_logreg.stages[-1].coefficients)))\n",
        "  .set_index(0)\n",
        "  .sort_values(1, ascending=False)\n",
        "  .plot.barh());"
      ],
      "metadata": {
        "colab": {
          "base_uri": "https://localhost:8080/",
          "height": 268
        },
        "id": "KT1LNFpm8kwA",
        "outputId": "8273c64e-faed-4d5c-b742-0aebc5674858"
      },
      "execution_count": null,
      "outputs": [
        {
          "output_type": "display_data",
          "data": {
            "text/plain": [
              "<Figure size 432x288 with 1 Axes>"
            ],
            "image/png": "[encoded data removed]"
          },
          "metadata": {}
        }
      ]
    },
    {
      "cell_type": "markdown",
      "source": [
        "### Partionnement apprentissage - test"
      ],
      "metadata": {
        "id": "xaiDcSXm_z-0"
      }
    },
    {
      "cell_type": "code",
      "source": [
        "train_ddf, test_ddf = titanic_ddf.randomSplit([2.0, 1.0]) # Split 2/3 1/3"
      ],
      "metadata": {
        "id": "CWf5rNlO83LR"
      },
      "execution_count": null,
      "outputs": []
    },
    {
      "cell_type": "code",
      "source": [
        "train_ddf.count(), test_ddf.count(), train_ddf.count() + test_ddf.count()"
      ],
      "metadata": {
        "colab": {
          "base_uri": "https://localhost:8080/"
        },
        "id": "Q9UvT_mbAzyl",
        "outputId": "bc6b6bd7-3d96-4c6c-ecfa-354224261e00"
      },
      "execution_count": null,
      "outputs": [
        {
          "output_type": "execute_result",
          "data": {
            "text/plain": [
              "(601, 290, 891)"
            ]
          },
          "metadata": {},
          "execution_count": 18
        }
      ]
    },
    {
      "cell_type": "code",
      "source": [
        "# On entraine, fit(), sur le train set\n",
        "# On applique, transform(), sur le test set\n",
        "\n",
        "model_trained = pipeline_logreg.fit(train_ddf)\n",
        "model_trained.transform(test_ddf).show(5)"
      ],
      "metadata": {
        "colab": {
          "base_uri": "https://localhost:8080/"
        },
        "id": "OfCp-U0aA8PV",
        "outputId": "99a75d77-4119-49a6-c758-4f916264f571"
      },
      "execution_count": null,
      "outputs": [
        {
          "output_type": "stream",
          "name": "stdout",
          "text": [
            "+-----------+--------+------+--------------------+------+----+-----+-----+------+-------+-----+--------+----+----+---------+-------------+--------------------+--------------------+--------------------+----------+\n",
            "|PassengerId|Survived|Pclass|                Name|   Sex| Age|SibSp|Parch|Ticket|   Fare|Cabin|Embarked|nsex|nage|nembarked|  oheembarked|            features|       rawPrediction|         probability|prediction|\n",
            "+-----------+--------+------+--------------------+------+----+-----+-----+------+-------+-----+--------+----+----+---------+-------------+--------------------+--------------------+--------------------+----------+\n",
            "|          7|       0|     1|McCarthy, Mr. Tim...|  male|54.0|    0|    0| 17463|51.8625|  E46|       S| 0.0|54.0|      0.0|(2,[0],[1.0])|(8,[0,2,5,6],[1.0...|[1.12253000459919...|[0.75445770470524...|       0.0|\n",
            "|         14|       0|     3|Andersson, Mr. An...|  male|39.0|    1|    5|347082| 31.275| null|       S| 0.0|39.0|      0.0|(2,[0],[1.0])|[3.0,0.0,39.0,1.0...|[3.17195359142440...|[0.95976509237719...|       0.0|\n",
            "|         15|       0|     3|Vestrom, Miss. Hu...|female|14.0|    0|    0|350406| 7.8542| null|       S| 1.0|14.0|      0.0|(2,[0],[1.0])|[3.0,1.0,14.0,0.0...|[-1.0676649556109...|[0.25584739861439...|       1.0|\n",
            "|         16|       1|     2|Hewlett, Mrs. (Ma...|female|55.0|    0|    0|248706|   16.0| null|       S| 1.0|55.0|      0.0|(2,[0],[1.0])|[2.0,1.0,55.0,0.0...|[-0.4174159861995...|[0.39713524698555...|       1.0|\n",
            "|         17|       0|     3|Rice, Master. Eugene|  male| 2.0|    4|    1|382652| 29.125| null|       Q| 0.0| 2.0|      2.0|    (2,[],[])|[3.0,0.0,2.0,4.0,...|[2.09818702395775...|[0.89072684221204...|       0.0|\n",
            "+-----------+--------+------+--------------------+------+----+-----+-----+------+-------+-----+--------+----+----+---------+-------------+--------------------+--------------------+--------------------+----------+\n",
            "only showing top 5 rows\n",
            "\n"
          ]
        }
      ]
    },
    {
      "cell_type": "markdown",
      "source": [
        "### Evaluation de la performance"
      ],
      "metadata": {
        "id": "--8ZL0IrCiBG"
      }
    },
    {
      "cell_type": "code",
      "source": [
        "results_ddf = model_trained.transform(test_ddf)"
      ],
      "metadata": {
        "id": "MwppW4P_BR0n"
      },
      "execution_count": null,
      "outputs": []
    },
    {
      "cell_type": "code",
      "source": [
        "results_ddf.where('Survived == Prediction').count() / results_ddf.count()"
      ],
      "metadata": {
        "colab": {
          "base_uri": "https://localhost:8080/"
        },
        "id": "eGMG1MnXCrwn",
        "outputId": "453547d2-945a-4706-9673-aed30407426d"
      },
      "execution_count": null,
      "outputs": [
        {
          "output_type": "execute_result",
          "data": {
            "text/plain": [
              "0.8137931034482758"
            ]
          },
          "metadata": {},
          "execution_count": 21
        }
      ]
    },
    {
      "cell_type": "code",
      "source": [
        "results_ddf.show(5, truncate=False)"
      ],
      "metadata": {
        "colab": {
          "base_uri": "https://localhost:8080/"
        },
        "id": "0wAZ1xwIWS4x",
        "outputId": "ad6b47d9-9b69-4f09-bb93-224cce6f0b97"
      },
      "execution_count": null,
      "outputs": [
        {
          "output_type": "stream",
          "name": "stdout",
          "text": [
            "+-----------+--------+------+------------------------------------+------+----+-----+-----+------+-------+-----+--------+----+----+---------+-------------+-------------------------------------+----------------------------------------+----------------------------------------+----------+\n",
            "|PassengerId|Survived|Pclass|Name                                |Sex   |Age |SibSp|Parch|Ticket|Fare   |Cabin|Embarked|nsex|nage|nembarked|oheembarked  |features                             |rawPrediction                           |probability                             |prediction|\n",
            "+-----------+--------+------+------------------------------------+------+----+-----+-----+------+-------+-----+--------+----+----+---------+-------------+-------------------------------------+----------------------------------------+----------------------------------------+----------+\n",
            "|7          |0       |1     |McCarthy, Mr. Timothy J             |male  |54.0|0    |0    |17463 |51.8625|E46  |S       |0.0 |54.0|0.0      |(2,[0],[1.0])|(8,[0,2,5,6],[1.0,54.0,51.8625,1.0]) |[1.122530004599199,-1.122530004599199]  |[0.7544577047052455,0.24554229529475446]|0.0       |\n",
            "|14         |0       |3     |Andersson, Mr. Anders Johan         |male  |39.0|1    |5    |347082|31.275 |null |S       |0.0 |39.0|0.0      |(2,[0],[1.0])|[3.0,0.0,39.0,1.0,5.0,31.275,1.0,0.0]|[3.171953591424408,-3.171953591424408]  |[0.959765092377195,0.040234907622805016]|0.0       |\n",
            "|15         |0       |3     |Vestrom, Miss. Hulda Amanda Adolfina|female|14.0|0    |0    |350406|7.8542 |null |S       |1.0 |14.0|0.0      |(2,[0],[1.0])|[3.0,1.0,14.0,0.0,0.0,7.8542,1.0,0.0]|[-1.0676649556109652,1.0676649556109652]|[0.25584739861439976,0.7441526013856002]|1.0       |\n",
            "|16         |1       |2     |Hewlett, Mrs. (Mary D Kingcome)     |female|55.0|0    |0    |248706|16.0   |null |S       |1.0 |55.0|0.0      |(2,[0],[1.0])|[2.0,1.0,55.0,0.0,0.0,16.0,1.0,0.0]  |[-0.4174159861995812,0.4174159861995812]|[0.3971352469855505,0.6028647530144495] |1.0       |\n",
            "|17         |0       |3     |Rice, Master. Eugene                |male  |2.0 |4    |1    |382652|29.125 |null |Q       |0.0 |2.0 |2.0      |(2,[],[])    |[3.0,0.0,2.0,4.0,1.0,29.125,0.0,0.0] |[2.0981870239577547,-2.0981870239577547]|[0.8907268422120426,0.10927315778795743]|0.0       |\n",
            "+-----------+--------+------+------------------------------------+------+----+-----+-----+------+-------+-----+--------+----+----+---------+-------------+-------------------------------------+----------------------------------------+----------------------------------------+----------+\n",
            "only showing top 5 rows\n",
            "\n"
          ]
        }
      ]
    },
    {
      "cell_type": "code",
      "source": [
        "from pyspark.ml.evaluation import BinaryClassificationEvaluator\n",
        "\n",
        "# Par défaut, la métrique est l'AUC ROC\n",
        "evaluator = BinaryClassificationEvaluator(labelCol='Survived',\n",
        "                                          rawPredictionCol='rawPrediction',\n",
        "                                          metricName='areaUnderPR')\n",
        "\n",
        "evaluator.getMetricName(), evaluator.evaluate(results_ddf)"
      ],
      "metadata": {
        "colab": {
          "base_uri": "https://localhost:8080/"
        },
        "id": "5fjCHR7FC3CX",
        "outputId": "830a3448-7f00-455a-91d4-9c289b2484ac"
      },
      "execution_count": null,
      "outputs": [
        {
          "output_type": "execute_result",
          "data": {
            "text/plain": [
              "('areaUnderPR', 0.8678994233744037)"
            ]
          },
          "metadata": {},
          "execution_count": 26
        }
      ]
    },
    {
      "cell_type": "markdown",
      "source": [
        "## Utilisation d'une random forest"
      ],
      "metadata": {
        "id": "dDvG4yY9Yw5a"
      }
    },
    {
      "cell_type": "code",
      "source": [
        "random_forest = RandomForestClassifier(labelCol='Survived')\n",
        "pipeline_random_forest = Pipeline(stages=[nsex, nage, nembarked, ohe_embarked, vector, random_forest])"
      ],
      "metadata": {
        "id": "GKYNAFNZEQIa"
      },
      "execution_count": null,
      "outputs": []
    },
    {
      "cell_type": "code",
      "source": [
        "# On entraine, fit(), sur le train set\n",
        "# On applique, transform(), sur le test set\n",
        "\n",
        "model_trained_rf = pipeline_random_forest.fit(train_ddf)\n",
        "model_trained_rf.transform(test_ddf).show(5)"
      ],
      "metadata": {
        "colab": {
          "base_uri": "https://localhost:8080/"
        },
        "id": "KIpas6-XZOxW",
        "outputId": "39e677f7-c85c-4a18-dfed-f8d1a70c4f08"
      },
      "execution_count": null,
      "outputs": [
        {
          "output_type": "stream",
          "name": "stdout",
          "text": [
            "+-----------+--------+------+--------------------+------+----+-----+-----+------+-------+-----+--------+----+----+---------+-------------+--------------------+--------------------+--------------------+----------+\n",
            "|PassengerId|Survived|Pclass|                Name|   Sex| Age|SibSp|Parch|Ticket|   Fare|Cabin|Embarked|nsex|nage|nembarked|  oheembarked|            features|       rawPrediction|         probability|prediction|\n",
            "+-----------+--------+------+--------------------+------+----+-----+-----+------+-------+-----+--------+----+----+---------+-------------+--------------------+--------------------+--------------------+----------+\n",
            "|          7|       0|     1|McCarthy, Mr. Tim...|  male|54.0|    0|    0| 17463|51.8625|  E46|       S| 0.0|54.0|      0.0|(2,[0],[1.0])|(8,[0,2,5,6],[1.0...|[14.6892531206036...|[0.73446265603018...|       0.0|\n",
            "|         14|       0|     3|Andersson, Mr. An...|  male|39.0|    1|    5|347082| 31.275| null|       S| 0.0|39.0|      0.0|(2,[0],[1.0])|[3.0,0.0,39.0,1.0...|[15.5823583014992...|[0.77911791507496...|       0.0|\n",
            "|         15|       0|     3|Vestrom, Miss. Hu...|female|14.0|    0|    0|350406| 7.8542| null|       S| 1.0|14.0|      0.0|(2,[0],[1.0])|[3.0,1.0,14.0,0.0...|[7.24023632698267...|[0.36201181634913...|       1.0|\n",
            "|         16|       1|     2|Hewlett, Mrs. (Ma...|female|55.0|    0|    0|248706|   16.0| null|       S| 1.0|55.0|      0.0|(2,[0],[1.0])|[2.0,1.0,55.0,0.0...|[4.87091605437167...|[0.24354580271858...|       1.0|\n",
            "|         17|       0|     3|Rice, Master. Eugene|  male| 2.0|    4|    1|382652| 29.125| null|       Q| 0.0| 2.0|      2.0|    (2,[],[])|[3.0,0.0,2.0,4.0,...|[17.6596398893659...|[0.88298199446829...|       0.0|\n",
            "+-----------+--------+------+--------------------+------+----+-----+-----+------+-------+-----+--------+----+----+---------+-------------+--------------------+--------------------+--------------------+----------+\n",
            "only showing top 5 rows\n",
            "\n"
          ]
        }
      ]
    },
    {
      "cell_type": "code",
      "source": [
        "# Application de la RF à l'ensemble de test\n",
        "results_rf_ddf = model_trained_rf.transform(test_ddf)"
      ],
      "metadata": {
        "id": "z98ijiHVZauF"
      },
      "execution_count": null,
      "outputs": []
    },
    {
      "cell_type": "code",
      "source": [
        "# Calcul de la métrique sur le test set (résultats)\n",
        "evaluator.getMetricName(), evaluator.evaluate(results_rf_ddf)"
      ],
      "metadata": {
        "colab": {
          "base_uri": "https://localhost:8080/"
        },
        "id": "Z72y38iEZ0LI",
        "outputId": "f6ced95f-c63f-46da-cd44-f8714e554847"
      },
      "execution_count": null,
      "outputs": [
        {
          "output_type": "execute_result",
          "data": {
            "text/plain": [
              "('areaUnderPR', 0.8798448444863323)"
            ]
          },
          "metadata": {},
          "execution_count": 31
        }
      ]
    },
    {
      "cell_type": "markdown",
      "source": [
        "## Validation croisée avec Spark"
      ],
      "metadata": {
        "id": "VHpvPS1eanFl"
      }
    },
    {
      "cell_type": "code",
      "source": [
        "from pyspark.ml.tuning import CrossValidator, ParamGridBuilder"
      ],
      "metadata": {
        "id": "TKBkxsMfaAV2"
      },
      "execution_count": null,
      "outputs": []
    },
    {
      "cell_type": "code",
      "source": [
        "# On construit la grille des hyperparamètres\n",
        "\n",
        "rf_paramGrid = (ParamGridBuilder()\n",
        "                .addGrid(random_forest.numTrees, [10, 20, 50]) # On teste 10, 20 et 50 arbres\n",
        "                .addGrid(random_forest.maxDepth, [2, 5, 8]).build()) # On teste une profondeur de 2, 5 et 8 niveaux"
      ],
      "metadata": {
        "id": "WPfxhCl1bcf5"
      },
      "execution_count": null,
      "outputs": []
    },
    {
      "cell_type": "code",
      "source": [
        "crossval = CrossValidator(\n",
        "    estimator=pipeline_random_forest,\n",
        "    estimatorParamMaps=rf_paramGrid,\n",
        "    evaluator=evaluator,\n",
        "    numFolds=5\n",
        ")"
      ],
      "metadata": {
        "id": "P42s82Vadcr9"
      },
      "execution_count": null,
      "outputs": []
    },
    {
      "cell_type": "code",
      "source": [
        "%%time\n",
        "cv_rf_model = crossval.fit(titanic_ddf)"
      ],
      "metadata": {
        "colab": {
          "base_uri": "https://localhost:8080/"
        },
        "id": "JejmezzQf6BW",
        "outputId": "3501d16d-b2cc-41b1-afb0-62423a1cb4a8"
      },
      "execution_count": null,
      "outputs": [
        {
          "output_type": "stream",
          "name": "stdout",
          "text": [
            "CPU times: user 8.81 s, sys: 1.95 s, total: 10.8 s\n",
            "Wall time: 1min 58s\n"
          ]
        }
      ]
    },
    {
      "cell_type": "code",
      "source": [
        "# On récupère les paramètres de la RF\n",
        "# dans le meilleur modèle (.bestModel)\n",
        "# la RF est le dernier stages du pipeline (stages[-1])\n",
        "# et on extrait les paramètres\n",
        "cv_rf_model.bestModel.stages[-1].extractParamMap()"
      ],
      "metadata": {
        "colab": {
          "base_uri": "https://localhost:8080/"
        },
        "id": "DuHPgAOIf79P",
        "outputId": "e02c98c7-7d46-42ba-f187-84569827e93c"
      },
      "execution_count": null,
      "outputs": [
        {
          "output_type": "execute_result",
          "data": {
            "text/plain": [
              "{Param(parent='RandomForestClassifier_2de152395a51', name='bootstrap', doc='Whether bootstrap samples are used when building trees.'): True,\n",
              " Param(parent='RandomForestClassifier_2de152395a51', name='cacheNodeIds', doc='If false, the algorithm will pass trees to executors to match instances with nodes. If true, the algorithm will cache node IDs for each instance. Caching can speed up training of deeper trees. Users can set how often should the cache be checkpointed or disable it by setting checkpointInterval.'): False,\n",
              " Param(parent='RandomForestClassifier_2de152395a51', name='checkpointInterval', doc='set checkpoint interval (>= 1) or disable checkpoint (-1). E.g. 10 means that the cache will get checkpointed every 10 iterations. Note: this setting will be ignored if the checkpoint directory is not set in the SparkContext.'): 10,\n",
              " Param(parent='RandomForestClassifier_2de152395a51', name='featureSubsetStrategy', doc=\"The number of features to consider for splits at each tree node. Supported options: 'auto' (choose automatically for task: If numTrees == 1, set to 'all'. If numTrees > 1 (forest), set to 'sqrt' for classification and to 'onethird' for regression), 'all' (use all features), 'onethird' (use 1/3 of the features), 'sqrt' (use sqrt(number of features)), 'log2' (use log2(number of features)), 'n' (when n is in the range (0, 1.0], use n * number of features. When n is in the range (1, number of features), use n features). default = 'auto'\"): 'auto',\n",
              " Param(parent='RandomForestClassifier_2de152395a51', name='featuresCol', doc='features column name.'): 'features',\n",
              " Param(parent='RandomForestClassifier_2de152395a51', name='impurity', doc='Criterion used for information gain calculation (case-insensitive). Supported options: entropy, gini'): 'gini',\n",
              " Param(parent='RandomForestClassifier_2de152395a51', name='labelCol', doc='label column name.'): 'Survived',\n",
              " Param(parent='RandomForestClassifier_2de152395a51', name='leafCol', doc='Leaf indices column name. Predicted leaf index of each instance in each tree by preorder.'): '',\n",
              " Param(parent='RandomForestClassifier_2de152395a51', name='maxBins', doc='Max number of bins for discretizing continuous features.  Must be >=2 and >= number of categories for any categorical feature.'): 32,\n",
              " Param(parent='RandomForestClassifier_2de152395a51', name='maxDepth', doc='Maximum depth of the tree. (>= 0) E.g., depth 0 means 1 leaf node; depth 1 means 1 internal node + 2 leaf nodes. Must be in range [0, 30].'): 5,\n",
              " Param(parent='RandomForestClassifier_2de152395a51', name='maxMemoryInMB', doc='Maximum memory in MB allocated to histogram aggregation. If too small, then 1 node will be split per iteration, and its aggregates may exceed this size.'): 256,\n",
              " Param(parent='RandomForestClassifier_2de152395a51', name='minInfoGain', doc='Minimum information gain for a split to be considered at a tree node.'): 0.0,\n",
              " Param(parent='RandomForestClassifier_2de152395a51', name='minInstancesPerNode', doc='Minimum number of instances each child must have after split. If a split causes the left or right child to have fewer than minInstancesPerNode, the split will be discarded as invalid. Should be >= 1.'): 1,\n",
              " Param(parent='RandomForestClassifier_2de152395a51', name='minWeightFractionPerNode', doc='Minimum fraction of the weighted sample count that each child must have after split. If a split causes the fraction of the total weight in the left or right child to be less than minWeightFractionPerNode, the split will be discarded as invalid. Should be in interval [0.0, 0.5).'): 0.0,\n",
              " Param(parent='RandomForestClassifier_2de152395a51', name='numTrees', doc='Number of trees to train (>= 1).'): 20,\n",
              " Param(parent='RandomForestClassifier_2de152395a51', name='predictionCol', doc='prediction column name.'): 'prediction',\n",
              " Param(parent='RandomForestClassifier_2de152395a51', name='probabilityCol', doc='Column name for predicted class conditional probabilities. Note: Not all models output well-calibrated probability estimates! These probabilities should be treated as confidences, not precise probabilities.'): 'probability',\n",
              " Param(parent='RandomForestClassifier_2de152395a51', name='rawPredictionCol', doc='raw prediction (a.k.a. confidence) column name.'): 'rawPrediction',\n",
              " Param(parent='RandomForestClassifier_2de152395a51', name='seed', doc='random seed.'): -8816970084909616998,\n",
              " Param(parent='RandomForestClassifier_2de152395a51', name='subsamplingRate', doc='Fraction of the training data used for learning each decision tree, in range (0, 1].'): 1.0}"
            ]
          },
          "metadata": {},
          "execution_count": 50
        }
      ]
    },
    {
      "cell_type": "code",
      "source": [
        "cv_rf_model.bestModel.transform(test_ddf).show(5)"
      ],
      "metadata": {
        "colab": {
          "base_uri": "https://localhost:8080/"
        },
        "id": "XMm0ZRldkAx2",
        "outputId": "7c37703b-06c2-4710-ce14-664a7bb12af8"
      },
      "execution_count": null,
      "outputs": [
        {
          "output_type": "stream",
          "name": "stdout",
          "text": [
            "+-----------+--------+------+--------------------+------+----+-----+-----+------+-------+-----+--------+----+----+---------+-------------+--------------------+--------------------+--------------------+----------+\n",
            "|PassengerId|Survived|Pclass|                Name|   Sex| Age|SibSp|Parch|Ticket|   Fare|Cabin|Embarked|nsex|nage|nembarked|  oheembarked|            features|       rawPrediction|         probability|prediction|\n",
            "+-----------+--------+------+--------------------+------+----+-----+-----+------+-------+-----+--------+----+----+---------+-------------+--------------------+--------------------+--------------------+----------+\n",
            "|          7|       0|     1|McCarthy, Mr. Tim...|  male|54.0|    0|    0| 17463|51.8625|  E46|       S| 0.0|54.0|      0.0|(2,[0],[1.0])|(8,[0,2,5,6],[1.0...|[15.1356308664362...|[0.75678154332181...|       0.0|\n",
            "|         14|       0|     3|Andersson, Mr. An...|  male|39.0|    1|    5|347082| 31.275| null|       S| 0.0|39.0|      0.0|(2,[0],[1.0])|[3.0,0.0,39.0,1.0...|[16.1096284698220...|[0.80548142349110...|       0.0|\n",
            "|         15|       0|     3|Vestrom, Miss. Hu...|female|14.0|    0|    0|350406| 7.8542| null|       S| 1.0|14.0|      0.0|(2,[0],[1.0])|[3.0,1.0,14.0,0.0...|[9.47642333465458...|[0.47382116673272...|       1.0|\n",
            "|         16|       1|     2|Hewlett, Mrs. (Ma...|female|55.0|    0|    0|248706|   16.0| null|       S| 1.0|55.0|      0.0|(2,[0],[1.0])|[2.0,1.0,55.0,0.0...|[3.78578453055605...|[0.18928922652780...|       1.0|\n",
            "|         17|       0|     3|Rice, Master. Eugene|  male| 2.0|    4|    1|382652| 29.125| null|       Q| 0.0| 2.0|      2.0|    (2,[],[])|[3.0,0.0,2.0,4.0,...|[15.5344768240257...|[0.77672384120128...|       0.0|\n",
            "+-----------+--------+------+--------------------+------+----+-----+-----+------+-------+-----+--------+----+----+---------+-------------+--------------------+--------------------+--------------------+----------+\n",
            "only showing top 5 rows\n",
            "\n"
          ]
        }
      ]
    },
    {
      "cell_type": "code",
      "source": [],
      "metadata": {
        "id": "trUnaByUms5d"
      },
      "execution_count": null,
      "outputs": []
    },
    {
      "cell_type": "code",
      "source": [],
      "metadata": {
        "id": "VXZeiLoBm4jM"
      },
      "execution_count": null,
      "outputs": []
    }
  ]
}