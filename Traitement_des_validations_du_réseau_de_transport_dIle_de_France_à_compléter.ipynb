{
  "cells": [
    {
      "cell_type": "markdown",
      "metadata": {
        "id": "lF33cvquA22Y"
      },
      "source": [
        "# Mini-projet Apache Spark\n",
        "\n",
        "Merci d'indiquer les noms composant le binôme :\n",
        "\n",
        "|Nom | Prénom|\n",
        "|---|---|\n",
        "| A | compléter |\n",
        "| A | compléter |\n",
        "\n",
        "L'objectif est de collecter les données de validations quotidiennes de titres de transport de la région parisienne, disponibles en Open Data sur le site de Mobilités Ile-de-France.\n",
        "\n",
        "On se concentrera sur le **réseau ferré** exclusivement pour cet exercice."
      ]
    },
    {
      "cell_type": "markdown",
      "metadata": {
        "id": "B4fXsbY1BRCt"
      },
      "source": [
        "## Installation de Spark\n",
        "\n",
        "Apache Spark n'est pas disponible en standard sur Google Colab.\n",
        "Procéder à son installation, ainsi qu'à son initialisation pour réaliser le traitement à venir."
      ]
    },
    {
      "cell_type": "code",
      "execution_count": 2,
      "metadata": {},
      "outputs": [
        {
          "name": "stdout",
          "output_type": "stream",
          "text": [
            "Requirement already satisfied: pyspark in /opt/anaconda3/lib/python3.9/site-packages (3.3.1)\n",
            "Requirement already satisfied: py4j==0.10.9.5 in /opt/anaconda3/lib/python3.9/site-packages (from pyspark) (0.10.9.5)\n",
            "Note: you may need to restart the kernel to use updated packages.\n"
          ]
        }
      ],
      "source": [
        "%pip install pyspark"
      ]
    },
    {
      "cell_type": "code",
      "execution_count": null,
      "metadata": {
        "id": "Xk3QdgByAw-h"
      },
      "outputs": [],
      "source": [
        "# Votre code"
      ]
    },
    {
      "cell_type": "markdown",
      "metadata": {
        "id": "uFkMo_2WBcrG"
      },
      "source": [
        "## Récupération des données\n",
        "\n",
        "Sur le site https://data.iledefrance-mobilites.fr, récupérer les données de validation par jour.\n",
        "\n",
        "Exemple :\n",
        "https://data.iledefrance-mobilites.fr/explore/dataset/validations-sur-le-reseau-ferre-nombre-de-validations-par-jour-2e-sem/information/\n",
        "\n",
        "Récupérer les données de S1 2020 et S2 2021 pour disposer d'une année complète.\n",
        "\n",
        "On utilisera pour ce faire les commandes de téléchargement de fichiers depuis un site (pas de chargement manuel).\n",
        "\n",
        "__Attention__ : prévoir une vingtaine de minutes pour le téléchargement, au moins une première fois, et donc une copie sur Google Drive si Google Colab est utilisée, afin d'éviter ce temps d'attente lors de sessions de travail successives."
      ]
    },
    {
      "cell_type": "code",
      "execution_count": 3,
      "metadata": {},
      "outputs": [
        {
          "name": "stdout",
          "output_type": "stream",
          "text": [
            "zsh:1: no matches found: https://data.iledefrance-mobilites.fr/explore/dataset/validations-sur-le-reseau-ferre-nombre-de-validations-par-jour-2e-sem/download/?format=csv\n"
          ]
        }
      ],
      "source": []
    },
    {
      "cell_type": "code",
      "execution_count": null,
      "metadata": {
        "id": "6mVDDBi4PAWT"
      },
      "outputs": [],
      "source": [
        "# Vos instructions pour le téléchargement"
      ]
    },
    {
      "cell_type": "markdown",
      "metadata": {
        "id": "JieIOSxp_8wM"
      },
      "source": [
        "### Commentaires sur les données disponibles sur ce portail\n",
        "\n",
        "Investiguer les données diponibles sur le portail.\n",
        "\n",
        "Question : peut-on constituer un historique de données s'étendant sur les trois dernières années (2019 à 2021) ?\n"
      ]
    },
    {
      "cell_type": "markdown",
      "metadata": {
        "id": "PEXg6TeoATXD"
      },
      "source": [
        "**Remplir votre commentaire ici**"
      ]
    },
    {
      "cell_type": "markdown",
      "metadata": {
        "id": "9i0jSKz1Orfl"
      },
      "source": [
        "## Lecture des fichiers dans Spark\n",
        "\n",
        "Lire les fichiers en choisissant les bonnes options de lecture.\n",
        "Concaténer les données en une seule table."
      ]
    },
    {
      "cell_type": "code",
      "execution_count": null,
      "metadata": {
        "id": "3Me1V5NfYx2A"
      },
      "outputs": [],
      "source": [
        "# Votre code"
      ]
    },
    {
      "cell_type": "code",
      "execution_count": null,
      "metadata": {
        "id": "uRzuTMKgO3Uw"
      },
      "outputs": [],
      "source": [
        "# Votre code"
      ]
    },
    {
      "cell_type": "markdown",
      "metadata": {
        "id": "w0_Cb36HPumu"
      },
      "source": [
        "## Validation\n",
        "\n",
        "Si vous avez appelé votre dataframe `validations_ddf`, le test suivant ne doit pas générer d'erreur."
      ]
    },
    {
      "cell_type": "code",
      "execution_count": null,
      "metadata": {
        "id": "vFsa7hM5P9mm"
      },
      "outputs": [],
      "source": [
        "assert validations_ddf.count() == 1_316_287, \"Le nombre de lignes ne correspond pas\""
      ]
    },
    {
      "cell_type": "markdown",
      "metadata": {
        "id": "uUL3zXzN0nYN"
      },
      "source": [
        "Dans le cas où ce code génère une erreur, il s'agit probablement d'un problème de récupération ou de lecture des deux fichiers."
      ]
    },
    {
      "cell_type": "markdown",
      "metadata": {
        "id": "geRE6A7VOKtt"
      },
      "source": [
        "## Préparation des données\n",
        "\n",
        "Réaliser les transformations nécessaires pour exploiter ces données :\n",
        "- préparation des dates\n",
        "- transformation du nombre de validation\n",
        "\n",
        "### Explication pour le nombre de validations\n",
        "\n",
        "Analyser les valeurs prises par ce champ et déterminer le problème.\n",
        "Présenter votre stratégie pour remédier à ce choix de codage par Mobilités Ile-de-France."
      ]
    },
    {
      "cell_type": "markdown",
      "metadata": {
        "id": "WeDTdkHk8lae"
      },
      "source": [
        "## Détermination des principales catégories de titre\n",
        "\n",
        "Différentes catégories de titre sont utilisées sur le réseau.\n",
        "\n",
        "Déterminer les deux catégories principalement utilisées. Seules ces catégories seront utilisées dans les travaux ci-après (les utiliser comme filtre sur les validations dans la suite)."
      ]
    },
    {
      "cell_type": "markdown",
      "metadata": {
        "id": "4iY3-EDD6QfK"
      },
      "source": [
        "## Visualisation du trafic dans une station\n",
        "\n",
        "Visualiser le trafic à la gare de Lyon pour les deux catégories de titre principales.\n",
        "\n",
        "Attention à gérer le cas des gares (comme la gare de Lyon) présentes sur plusieurs lignes et dont le libellé apparaît donc sur plusieurs lignes. Investiguer ce cas avant de déterminer la bonne façon de calculer le nombre de validations pour la gare de Lyon."
      ]
    },
    {
      "cell_type": "code",
      "execution_count": null,
      "metadata": {
        "id": "N7kJok808_0H"
      },
      "outputs": [],
      "source": [
        "# Votre code mettant en évidence le cas des gares sur plusieurs lignes"
      ]
    },
    {
      "cell_type": "code",
      "execution_count": null,
      "metadata": {
        "id": "eeOqG1Hi9EuM"
      },
      "outputs": [],
      "source": [
        "# Votre code visualisant le trafic à la gare de Lyon"
      ]
    },
    {
      "cell_type": "markdown",
      "metadata": {
        "id": "2Ae6sckJdxjE"
      },
      "source": [
        "## Fluctuation du trafic hebdomadaire\n",
        "\n",
        "Calculer le trafic total et le pourcentage par jour de la semaine sur l'ensemble du réseau.\n",
        "\n",
        "Trier le résultat par ordre décroissant de validations.\n",
        "\n",
        "Note : considérer l'usage d'une fonction analytique (`Window.partitionBy()`).\n"
      ]
    },
    {
      "cell_type": "markdown",
      "metadata": {
        "id": "nMN5ZAs_dRWN"
      },
      "source": [
        "## Analyse de l'impact du reconfinement d'octobre 2020\n",
        "\n",
        "Mettre en évidence graphiquement l'impact du reconfinement.\n",
        "\n",
        "N'utiliser que les catégories de titre _IMAGINE R_ et _Navigo_.\n"
      ]
    },
    {
      "cell_type": "markdown",
      "metadata": {
        "id": "QYNecvg2zbWE"
      },
      "source": [
        "#### Bonus\n",
        "\n",
        "Calculer la moyenne glissante sur 7 jours par categorie de titre pour réduire les variations hebdomadaires."
      ]
    },
    {
      "cell_type": "markdown",
      "metadata": {
        "id": "XjTPspGbAecD"
      },
      "source": [
        "## Modélisation avec Apache Spark\n",
        "\n",
        "On essaie de faire un modèle basique de prévision du trafic dans les 7 prochains jours, pour une station.\n",
        "\n",
        "Apache Spark MLlib n'intègre pas de modèle pour les séries chronologiques.\n",
        "\n",
        "L'approche classique est alors d'utiliser une technique de régression classique (régression linéaire bien sûr, mais aussi RandomForestRegressor par exemple).\n",
        "\n",
        "Pour une première version simple, utiliser un vecteur constituer des validations sur les 14 jours précédents (X) pour prédire les validations du jour (y). Dans cette version, on utilisera une `LinearRegression` ou un `RandomForestRegressor`, au choix.\n",
        "\n",
        "Le code doit comporter :\n",
        "- la préparation des _features_ (X)\n",
        "- la constitution d'un ensemble d'apprentissage et de test\n",
        "- l'entrainement d'un modèle\n",
        "- le mesure de la performance du modèle : RMSE\n",
        "\n",
        "Rappel : ne travailler que sur les deux catégories de titre principales.\n"
      ]
    },
    {
      "cell_type": "code",
      "execution_count": null,
      "metadata": {
        "id": "2HQKOiPQvVWN"
      },
      "outputs": [],
      "source": [
        "# Votre code ici"
      ]
    },
    {
      "cell_type": "markdown",
      "metadata": {
        "id": "qBMKn6rmDREr"
      },
      "source": [
        "## Amélioration du modèle\n",
        "\n",
        "Discuter des façons d'améliorer cette première version du modèle."
      ]
    },
    {
      "cell_type": "markdown",
      "metadata": {
        "id": "mdse1jBVDcR-"
      },
      "source": [
        "**Remplir votre commentaire ici**"
      ]
    },
    {
      "cell_type": "markdown",
      "metadata": {
        "id": "dqLJ6mndDkEk"
      },
      "source": [
        "## OPTION : implémentation des améliorations\n",
        "\n",
        "Implémenter tout ou partir des suggestions d'amélioration.\n",
        "\n",
        "**Cette partie est facultative et sera bonifiante si les éléments contribués sont probants.**"
      ]
    },
    {
      "cell_type": "code",
      "execution_count": null,
      "metadata": {
        "id": "YlhwO0DEDM37"
      },
      "outputs": [],
      "source": [
        "# votre code ici"
      ]
    }
  ],
  "metadata": {
    "colab": {
      "collapsed_sections": [],
      "name": "Traitement des validations du réseau de transport d'Ile de France - à compléter.ipynb",
      "provenance": []
    },
    "interpreter": {
      "hash": "40d3a090f54c6569ab1632332b64b2c03c39dcf918b08424e98f38b5ae0af88f"
    },
    "kernelspec": {
      "display_name": "Python 3.9.12 ('base')",
      "language": "python",
      "name": "python3"
    },
    "language_info": {
      "codemirror_mode": {
        "name": "ipython",
        "version": 3
      },
      "file_extension": ".py",
      "mimetype": "text/x-python",
      "name": "python",
      "nbconvert_exporter": "python",
      "pygments_lexer": "ipython3",
      "version": "3.9.12"
    }
  },
  "nbformat": 4,
  "nbformat_minor": 0
}
